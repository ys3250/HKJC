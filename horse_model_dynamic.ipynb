{
 "cells": [
  {
   "cell_type": "code",
   "execution_count": 1,
   "metadata": {},
   "outputs": [],
   "source": [
    "import pandas as pd\n",
    "import numpy as np\n",
    "import re\n",
    "from matplotlib import pyplot as plt\n",
    "\n",
    "import matplotlib.pyplot as plt\n",
    "\n",
    "pd.set_option('max.columns', None)"
   ]
  },
  {
   "cell_type": "markdown",
   "metadata": {},
   "source": [
    "# Import Data"
   ]
  },
  {
   "cell_type": "markdown",
   "metadata": {},
   "source": [
    "## Import results file"
   ]
  },
  {
   "cell_type": "code",
   "execution_count": 2,
   "metadata": {},
   "outputs": [
    {
     "output_type": "execute_result",
     "data": {
      "text/plain": "   row plc  horseno                  horse     jockey   trainer  actualwt  \\\n0    0   1     10.0    NATURAL EIGHT(S243)     C Y Ho  C Fownes     119.0   \n1    0   1      7.0    SOLAR HEI HEI(T242)  B Prebble  D J Hall     125.0   \n2    0   1      3.0     GRAN BOLIVAR(S165)   H N Wong  Y S Tsui     121.0   \n3    0   1     11.0  PEOPLE'S KNIGHT(T305)    G Mosse   J Moore     120.0   \n4    0   1      2.0         SIR JOHN(P344)  B Prebble    W Y So     131.0   \n\n   declarwt  draw lbw runningpos finishtime  winodds        date  raceno  \\\n0    1037.0   1.0   -      4 3 1    1.10.19      3.5  2015-06-03       1   \n1    1077.0  11.0   -      9 8 1    1.09.06      2.3  2015-06-07       1   \n2     950.0   9.0   -      1 1 1    1.09.64     32.0  2015-06-10       1   \n3    1149.0   4.0   -      4 4 1    1.09.70      6.6  2015-06-14       1   \n4    1158.0  10.0   -      1 1 1    0.56.90      6.8  2015-06-17       1   \n\n   class  distance         going                 handicap             course  \\\n0      5      1200  GOOD TO FIRM    MOUNT BUTLER HANDICAP    TURF - A COURSE   \n1      4      1200  GOOD TO FIRM  HKU FOUNDATION HANDICAP  TURF - A+3 COURSE   \n2      4      1200  GOOD TO FIRM          LAI ON HANDICAP    TURF - B COURSE   \n3      1      1200  GOOD TO FIRM            BREGUET PLATE  TURF - B+2 COURSE   \n4      5      1000  GOOD TO FIRM        WANG TAK HANDICAP    TURF - C COURSE   \n\n    stake         venue  \n0  575000  Happy Valley  \n1  760000       Sha Tin  \n2  760000  Happy Valley  \n3  800000       Sha Tin  \n4  575000  Happy Valley  ",
      "text/html": "<div>\n<style scoped>\n    .dataframe tbody tr th:only-of-type {\n        vertical-align: middle;\n    }\n\n    .dataframe tbody tr th {\n        vertical-align: top;\n    }\n\n    .dataframe thead th {\n        text-align: right;\n    }\n</style>\n<table border=\"1\" class=\"dataframe\">\n  <thead>\n    <tr style=\"text-align: right;\">\n      <th></th>\n      <th>row</th>\n      <th>plc</th>\n      <th>horseno</th>\n      <th>horse</th>\n      <th>jockey</th>\n      <th>trainer</th>\n      <th>actualwt</th>\n      <th>declarwt</th>\n      <th>draw</th>\n      <th>lbw</th>\n      <th>runningpos</th>\n      <th>finishtime</th>\n      <th>winodds</th>\n      <th>date</th>\n      <th>raceno</th>\n      <th>class</th>\n      <th>distance</th>\n      <th>going</th>\n      <th>handicap</th>\n      <th>course</th>\n      <th>stake</th>\n      <th>venue</th>\n    </tr>\n  </thead>\n  <tbody>\n    <tr>\n      <th>0</th>\n      <td>0</td>\n      <td>1</td>\n      <td>10.0</td>\n      <td>NATURAL EIGHT(S243)</td>\n      <td>C Y Ho</td>\n      <td>C Fownes</td>\n      <td>119.0</td>\n      <td>1037.0</td>\n      <td>1.0</td>\n      <td>-</td>\n      <td>4 3 1</td>\n      <td>1.10.19</td>\n      <td>3.5</td>\n      <td>2015-06-03</td>\n      <td>1</td>\n      <td>5</td>\n      <td>1200</td>\n      <td>GOOD TO FIRM</td>\n      <td>MOUNT BUTLER HANDICAP</td>\n      <td>TURF - A COURSE</td>\n      <td>575000</td>\n      <td>Happy Valley</td>\n    </tr>\n    <tr>\n      <th>1</th>\n      <td>0</td>\n      <td>1</td>\n      <td>7.0</td>\n      <td>SOLAR HEI HEI(T242)</td>\n      <td>B Prebble</td>\n      <td>D J Hall</td>\n      <td>125.0</td>\n      <td>1077.0</td>\n      <td>11.0</td>\n      <td>-</td>\n      <td>9 8 1</td>\n      <td>1.09.06</td>\n      <td>2.3</td>\n      <td>2015-06-07</td>\n      <td>1</td>\n      <td>4</td>\n      <td>1200</td>\n      <td>GOOD TO FIRM</td>\n      <td>HKU FOUNDATION HANDICAP</td>\n      <td>TURF - A+3 COURSE</td>\n      <td>760000</td>\n      <td>Sha Tin</td>\n    </tr>\n    <tr>\n      <th>2</th>\n      <td>0</td>\n      <td>1</td>\n      <td>3.0</td>\n      <td>GRAN BOLIVAR(S165)</td>\n      <td>H N Wong</td>\n      <td>Y S Tsui</td>\n      <td>121.0</td>\n      <td>950.0</td>\n      <td>9.0</td>\n      <td>-</td>\n      <td>1 1 1</td>\n      <td>1.09.64</td>\n      <td>32.0</td>\n      <td>2015-06-10</td>\n      <td>1</td>\n      <td>4</td>\n      <td>1200</td>\n      <td>GOOD TO FIRM</td>\n      <td>LAI ON HANDICAP</td>\n      <td>TURF - B COURSE</td>\n      <td>760000</td>\n      <td>Happy Valley</td>\n    </tr>\n    <tr>\n      <th>3</th>\n      <td>0</td>\n      <td>1</td>\n      <td>11.0</td>\n      <td>PEOPLE'S KNIGHT(T305)</td>\n      <td>G Mosse</td>\n      <td>J Moore</td>\n      <td>120.0</td>\n      <td>1149.0</td>\n      <td>4.0</td>\n      <td>-</td>\n      <td>4 4 1</td>\n      <td>1.09.70</td>\n      <td>6.6</td>\n      <td>2015-06-14</td>\n      <td>1</td>\n      <td>1</td>\n      <td>1200</td>\n      <td>GOOD TO FIRM</td>\n      <td>BREGUET PLATE</td>\n      <td>TURF - B+2 COURSE</td>\n      <td>800000</td>\n      <td>Sha Tin</td>\n    </tr>\n    <tr>\n      <th>4</th>\n      <td>0</td>\n      <td>1</td>\n      <td>2.0</td>\n      <td>SIR JOHN(P344)</td>\n      <td>B Prebble</td>\n      <td>W Y So</td>\n      <td>131.0</td>\n      <td>1158.0</td>\n      <td>10.0</td>\n      <td>-</td>\n      <td>1 1 1</td>\n      <td>0.56.90</td>\n      <td>6.8</td>\n      <td>2015-06-17</td>\n      <td>1</td>\n      <td>5</td>\n      <td>1000</td>\n      <td>GOOD TO FIRM</td>\n      <td>WANG TAK HANDICAP</td>\n      <td>TURF - C COURSE</td>\n      <td>575000</td>\n      <td>Happy Valley</td>\n    </tr>\n  </tbody>\n</table>\n</div>"
     },
     "metadata": {},
     "execution_count": 2
    }
   ],
   "source": [
    "results = pd.read_csv('results.csv', index_col = 0)\n",
    "\n",
    "results = results[['row', 'plc', 'horseno', 'horse', 'jockey', 'trainer', 'actualwt',\n",
    "       'declarwt', 'draw', 'lbw', 'runningpos', 'finishtime', 'winodds',\n",
    "       'date', 'raceno', 'class', 'distance', 'going', 'handicap', 'course',\n",
    "       'stake', 'venue']]\n",
    "\n",
    "results.head()"
   ]
  },
  {
   "cell_type": "markdown",
   "metadata": {},
   "source": [
    "# CAN ANYONE INVESTIGATE ON THIS?"
   ]
  },
  {
   "cell_type": "code",
   "execution_count": 3,
   "metadata": {},
   "outputs": [
    {
     "output_type": "execute_result",
     "data": {
      "text/plain": "array(['1', '1 DH', '2', '2 DH', '3', '3 DH', '4', '4 DH', '5', '5 DH',\n       '6', '6 DH', '7', 'WV', '7 DH', '8', '8 DH', '9', 'PU', '9 DH',\n       '10', 'UR', 'WV-A', '11', 'FE', 'DNF', '12', 'WX', 'TNP', '13',\n       nan, 'WX-A', '14'], dtype=object)"
     },
     "metadata": {},
     "execution_count": 3
    }
   ],
   "source": [
    "# results['plc'] = results['plc'].apply(int)\n",
    "results['plc'].unique()\n",
    "# results.describe()"
   ]
  },
  {
   "cell_type": "markdown",
   "metadata": {},
   "source": [
    "# Convert data into Date, Venue, Course, and Race No. level"
   ]
  },
  {
   "cell_type": "code",
   "execution_count": 4,
   "metadata": {},
   "outputs": [],
   "source": [
    "text = 'NATURAL EIGHT(S243)'\n",
    "\n",
    "pattern = re.compile(r'([\\w\\W]+)?([\\(])([A-Z0-9]+)([\\)])')\n",
    "\n",
    "def extract_horse_code(pattern, text):\n",
    "#     print(text)\n",
    "    match = re.match(pattern, text)\n",
    "    return match.group(3)"
   ]
  },
  {
   "cell_type": "code",
   "execution_count": 5,
   "metadata": {},
   "outputs": [
    {
     "output_type": "execute_result",
     "data": {
      "text/plain": "   row plc  horseno                  horse     jockey   trainer  actualwt  \\\n0    0   1     10.0    NATURAL EIGHT(S243)     C Y Ho  C Fownes     119.0   \n1    0   1      7.0    SOLAR HEI HEI(T242)  B Prebble  D J Hall     125.0   \n2    0   1      3.0     GRAN BOLIVAR(S165)   H N Wong  Y S Tsui     121.0   \n3    0   1     11.0  PEOPLE'S KNIGHT(T305)    G Mosse   J Moore     120.0   \n4    0   1      2.0         SIR JOHN(P344)  B Prebble    W Y So     131.0   \n\n   declarwt  draw lbw runningpos finishtime  winodds        date  raceno  \\\n0    1037.0   1.0   -      4 3 1    1.10.19      3.5  2015-06-03       1   \n1    1077.0  11.0   -      9 8 1    1.09.06      2.3  2015-06-07       1   \n2     950.0   9.0   -      1 1 1    1.09.64     32.0  2015-06-10       1   \n3    1149.0   4.0   -      4 4 1    1.09.70      6.6  2015-06-14       1   \n4    1158.0  10.0   -      1 1 1    0.56.90      6.8  2015-06-17       1   \n\n   class  distance         going                 handicap             course  \\\n0      5      1200  GOOD TO FIRM    MOUNT BUTLER HANDICAP    TURF - A COURSE   \n1      4      1200  GOOD TO FIRM  HKU FOUNDATION HANDICAP  TURF - A+3 COURSE   \n2      4      1200  GOOD TO FIRM          LAI ON HANDICAP    TURF - B COURSE   \n3      1      1200  GOOD TO FIRM            BREGUET PLATE  TURF - B+2 COURSE   \n4      5      1000  GOOD TO FIRM        WANG TAK HANDICAP    TURF - C COURSE   \n\n    stake         venue horse_code  \n0  575000  Happy Valley       S243  \n1  760000       Sha Tin       T242  \n2  760000  Happy Valley       S165  \n3  800000       Sha Tin       T305  \n4  575000  Happy Valley       P344  ",
      "text/html": "<div>\n<style scoped>\n    .dataframe tbody tr th:only-of-type {\n        vertical-align: middle;\n    }\n\n    .dataframe tbody tr th {\n        vertical-align: top;\n    }\n\n    .dataframe thead th {\n        text-align: right;\n    }\n</style>\n<table border=\"1\" class=\"dataframe\">\n  <thead>\n    <tr style=\"text-align: right;\">\n      <th></th>\n      <th>row</th>\n      <th>plc</th>\n      <th>horseno</th>\n      <th>horse</th>\n      <th>jockey</th>\n      <th>trainer</th>\n      <th>actualwt</th>\n      <th>declarwt</th>\n      <th>draw</th>\n      <th>lbw</th>\n      <th>runningpos</th>\n      <th>finishtime</th>\n      <th>winodds</th>\n      <th>date</th>\n      <th>raceno</th>\n      <th>class</th>\n      <th>distance</th>\n      <th>going</th>\n      <th>handicap</th>\n      <th>course</th>\n      <th>stake</th>\n      <th>venue</th>\n      <th>horse_code</th>\n    </tr>\n  </thead>\n  <tbody>\n    <tr>\n      <th>0</th>\n      <td>0</td>\n      <td>1</td>\n      <td>10.0</td>\n      <td>NATURAL EIGHT(S243)</td>\n      <td>C Y Ho</td>\n      <td>C Fownes</td>\n      <td>119.0</td>\n      <td>1037.0</td>\n      <td>1.0</td>\n      <td>-</td>\n      <td>4 3 1</td>\n      <td>1.10.19</td>\n      <td>3.5</td>\n      <td>2015-06-03</td>\n      <td>1</td>\n      <td>5</td>\n      <td>1200</td>\n      <td>GOOD TO FIRM</td>\n      <td>MOUNT BUTLER HANDICAP</td>\n      <td>TURF - A COURSE</td>\n      <td>575000</td>\n      <td>Happy Valley</td>\n      <td>S243</td>\n    </tr>\n    <tr>\n      <th>1</th>\n      <td>0</td>\n      <td>1</td>\n      <td>7.0</td>\n      <td>SOLAR HEI HEI(T242)</td>\n      <td>B Prebble</td>\n      <td>D J Hall</td>\n      <td>125.0</td>\n      <td>1077.0</td>\n      <td>11.0</td>\n      <td>-</td>\n      <td>9 8 1</td>\n      <td>1.09.06</td>\n      <td>2.3</td>\n      <td>2015-06-07</td>\n      <td>1</td>\n      <td>4</td>\n      <td>1200</td>\n      <td>GOOD TO FIRM</td>\n      <td>HKU FOUNDATION HANDICAP</td>\n      <td>TURF - A+3 COURSE</td>\n      <td>760000</td>\n      <td>Sha Tin</td>\n      <td>T242</td>\n    </tr>\n    <tr>\n      <th>2</th>\n      <td>0</td>\n      <td>1</td>\n      <td>3.0</td>\n      <td>GRAN BOLIVAR(S165)</td>\n      <td>H N Wong</td>\n      <td>Y S Tsui</td>\n      <td>121.0</td>\n      <td>950.0</td>\n      <td>9.0</td>\n      <td>-</td>\n      <td>1 1 1</td>\n      <td>1.09.64</td>\n      <td>32.0</td>\n      <td>2015-06-10</td>\n      <td>1</td>\n      <td>4</td>\n      <td>1200</td>\n      <td>GOOD TO FIRM</td>\n      <td>LAI ON HANDICAP</td>\n      <td>TURF - B COURSE</td>\n      <td>760000</td>\n      <td>Happy Valley</td>\n      <td>S165</td>\n    </tr>\n    <tr>\n      <th>3</th>\n      <td>0</td>\n      <td>1</td>\n      <td>11.0</td>\n      <td>PEOPLE'S KNIGHT(T305)</td>\n      <td>G Mosse</td>\n      <td>J Moore</td>\n      <td>120.0</td>\n      <td>1149.0</td>\n      <td>4.0</td>\n      <td>-</td>\n      <td>4 4 1</td>\n      <td>1.09.70</td>\n      <td>6.6</td>\n      <td>2015-06-14</td>\n      <td>1</td>\n      <td>1</td>\n      <td>1200</td>\n      <td>GOOD TO FIRM</td>\n      <td>BREGUET PLATE</td>\n      <td>TURF - B+2 COURSE</td>\n      <td>800000</td>\n      <td>Sha Tin</td>\n      <td>T305</td>\n    </tr>\n    <tr>\n      <th>4</th>\n      <td>0</td>\n      <td>1</td>\n      <td>2.0</td>\n      <td>SIR JOHN(P344)</td>\n      <td>B Prebble</td>\n      <td>W Y So</td>\n      <td>131.0</td>\n      <td>1158.0</td>\n      <td>10.0</td>\n      <td>-</td>\n      <td>1 1 1</td>\n      <td>0.56.90</td>\n      <td>6.8</td>\n      <td>2015-06-17</td>\n      <td>1</td>\n      <td>5</td>\n      <td>1000</td>\n      <td>GOOD TO FIRM</td>\n      <td>WANG TAK HANDICAP</td>\n      <td>TURF - C COURSE</td>\n      <td>575000</td>\n      <td>Happy Valley</td>\n      <td>P344</td>\n    </tr>\n  </tbody>\n</table>\n</div>"
     },
     "metadata": {},
     "execution_count": 5
    }
   ],
   "source": [
    "results['horse_code'] = results['horse'].apply(lambda x: extract_horse_code(pattern, x))\n",
    "results.head()"
   ]
  },
  {
   "cell_type": "code",
   "execution_count": 6,
   "metadata": {},
   "outputs": [
    {
     "output_type": "execute_result",
     "data": {
      "text/plain": "       row plc  horseno                     horse      jockey       trainer  \\\n118      0   1      5.0     ROBUST MOMENTUM(P422)      C Y Ho      C Fownes   \n1232     1   2      1.0               AXIOM(P095)  A Suborics      A Schutz   \n2346     2   3     11.0  LIGHTNING AND GOLD(P354)     W M Lai       C H Yip   \n3460     3   4      7.0       CHINA DELIGHT(N148)      T H So       K W Lui   \n4574     4   5      2.0      AMAZING ALWAYS(N432)     D Whyte  D E Ferraris   \n5686     5   6     10.0         RED COURAGE(N110)    K Teetan        J Size   \n6797     6   7     12.0        DRAGON GLORY(P130)  M Chadwick     C W Chang   \n7900     7   8      3.0        CIRCUIT STAR(N220)   K C Leung       K L Man   \n9001     8   9      4.0             MAC ROW(N252)   M L Yeung         A Lee   \n10092    9  10      8.0    CONFUCIUS SPIRIT(S329)    N Callan       S Woods   \n11166   10  11      6.0      SPIRIT SOARING(N099)  N Rawiller        W Y So   \n12220   11  12      9.0    SOUTHERN SPRINGS(P139)     H W Lai      C S Shum   \n\n       actualwt  declarwt  draw     lbw  runningpos finishtime  winodds  \\\n118       122.0    1209.0   1.0       -     2 3 2 1    1.40.18      2.5   \n1232      129.0    1088.0  12.0       1   10 10 9 2    1.40.34     82.0   \n2346      114.0    1034.0  11.0   1-1/4  11 11 10 3    1.40.38     27.0   \n3460      121.0    1031.0   2.0   1-1/4  12 12 12 4    1.40.38     13.0   \n4574      125.0    1133.0   7.0   1-1/4     8 7 8 5    1.40.40      6.8   \n5686      117.0    1186.0   5.0       2     3 2 3 6    1.40.50     11.0   \n6797      113.0    1156.0   3.0       2     4 6 4 7    1.40.51     10.0   \n7900      123.0    1054.0   9.0       2     7 8 7 8    1.40.52     30.0   \n9001      122.0    1001.0   8.0   3-3/4    9 9 11 9    1.40.78      9.9   \n10092     120.0    1088.0   4.0       5    6 5 6 10    1.40.98     10.0   \n11166     124.0    1098.0   6.0   5-1/4    1 1 1 11    1.41.04     10.0   \n12220     118.0    1112.0  10.0  11-3/4    5 4 5 12    1.42.07     38.0   \n\n             date  raceno  class  distance         going  \\\n118    2015-06-03       2      4      1650  GOOD TO FIRM   \n1232   2015-06-03       2      4      1650  GOOD TO FIRM   \n2346   2015-06-03       2      4      1650  GOOD TO FIRM   \n3460   2015-06-03       2      4      1650  GOOD TO FIRM   \n4574   2015-06-03       2      4      1650  GOOD TO FIRM   \n5686   2015-06-03       2      4      1650  GOOD TO FIRM   \n6797   2015-06-03       2      4      1650  GOOD TO FIRM   \n7900   2015-06-03       2      4      1650  GOOD TO FIRM   \n9001   2015-06-03       2      4      1650  GOOD TO FIRM   \n10092  2015-06-03       2      4      1650  GOOD TO FIRM   \n11166  2015-06-03       2      4      1650  GOOD TO FIRM   \n12220  2015-06-03       2      4      1650  GOOD TO FIRM   \n\n                     handicap           course   stake         venue  \\\n118    MOUNT CAMERON HANDICAP  TURF - A COURSE  760000  Happy Valley   \n1232   MOUNT CAMERON HANDICAP  TURF - A COURSE  760000  Happy Valley   \n2346   MOUNT CAMERON HANDICAP  TURF - A COURSE  760000  Happy Valley   \n3460   MOUNT CAMERON HANDICAP  TURF - A COURSE  760000  Happy Valley   \n4574   MOUNT CAMERON HANDICAP  TURF - A COURSE  760000  Happy Valley   \n5686   MOUNT CAMERON HANDICAP  TURF - A COURSE  760000  Happy Valley   \n6797   MOUNT CAMERON HANDICAP  TURF - A COURSE  760000  Happy Valley   \n7900   MOUNT CAMERON HANDICAP  TURF - A COURSE  760000  Happy Valley   \n9001   MOUNT CAMERON HANDICAP  TURF - A COURSE  760000  Happy Valley   \n10092  MOUNT CAMERON HANDICAP  TURF - A COURSE  760000  Happy Valley   \n11166  MOUNT CAMERON HANDICAP  TURF - A COURSE  760000  Happy Valley   \n12220  MOUNT CAMERON HANDICAP  TURF - A COURSE  760000  Happy Valley   \n\n      horse_code  \n118         P422  \n1232        P095  \n2346        P354  \n3460        N148  \n4574        N432  \n5686        N110  \n6797        P130  \n7900        N220  \n9001        N252  \n10092       S329  \n11166       N099  \n12220       P139  ",
      "text/html": "<div>\n<style scoped>\n    .dataframe tbody tr th:only-of-type {\n        vertical-align: middle;\n    }\n\n    .dataframe tbody tr th {\n        vertical-align: top;\n    }\n\n    .dataframe thead th {\n        text-align: right;\n    }\n</style>\n<table border=\"1\" class=\"dataframe\">\n  <thead>\n    <tr style=\"text-align: right;\">\n      <th></th>\n      <th>row</th>\n      <th>plc</th>\n      <th>horseno</th>\n      <th>horse</th>\n      <th>jockey</th>\n      <th>trainer</th>\n      <th>actualwt</th>\n      <th>declarwt</th>\n      <th>draw</th>\n      <th>lbw</th>\n      <th>runningpos</th>\n      <th>finishtime</th>\n      <th>winodds</th>\n      <th>date</th>\n      <th>raceno</th>\n      <th>class</th>\n      <th>distance</th>\n      <th>going</th>\n      <th>handicap</th>\n      <th>course</th>\n      <th>stake</th>\n      <th>venue</th>\n      <th>horse_code</th>\n    </tr>\n  </thead>\n  <tbody>\n    <tr>\n      <th>118</th>\n      <td>0</td>\n      <td>1</td>\n      <td>5.0</td>\n      <td>ROBUST MOMENTUM(P422)</td>\n      <td>C Y Ho</td>\n      <td>C Fownes</td>\n      <td>122.0</td>\n      <td>1209.0</td>\n      <td>1.0</td>\n      <td>-</td>\n      <td>2 3 2 1</td>\n      <td>1.40.18</td>\n      <td>2.5</td>\n      <td>2015-06-03</td>\n      <td>2</td>\n      <td>4</td>\n      <td>1650</td>\n      <td>GOOD TO FIRM</td>\n      <td>MOUNT CAMERON HANDICAP</td>\n      <td>TURF - A COURSE</td>\n      <td>760000</td>\n      <td>Happy Valley</td>\n      <td>P422</td>\n    </tr>\n    <tr>\n      <th>1232</th>\n      <td>1</td>\n      <td>2</td>\n      <td>1.0</td>\n      <td>AXIOM(P095)</td>\n      <td>A Suborics</td>\n      <td>A Schutz</td>\n      <td>129.0</td>\n      <td>1088.0</td>\n      <td>12.0</td>\n      <td>1</td>\n      <td>10 10 9 2</td>\n      <td>1.40.34</td>\n      <td>82.0</td>\n      <td>2015-06-03</td>\n      <td>2</td>\n      <td>4</td>\n      <td>1650</td>\n      <td>GOOD TO FIRM</td>\n      <td>MOUNT CAMERON HANDICAP</td>\n      <td>TURF - A COURSE</td>\n      <td>760000</td>\n      <td>Happy Valley</td>\n      <td>P095</td>\n    </tr>\n    <tr>\n      <th>2346</th>\n      <td>2</td>\n      <td>3</td>\n      <td>11.0</td>\n      <td>LIGHTNING AND GOLD(P354)</td>\n      <td>W M Lai</td>\n      <td>C H Yip</td>\n      <td>114.0</td>\n      <td>1034.0</td>\n      <td>11.0</td>\n      <td>1-1/4</td>\n      <td>11 11 10 3</td>\n      <td>1.40.38</td>\n      <td>27.0</td>\n      <td>2015-06-03</td>\n      <td>2</td>\n      <td>4</td>\n      <td>1650</td>\n      <td>GOOD TO FIRM</td>\n      <td>MOUNT CAMERON HANDICAP</td>\n      <td>TURF - A COURSE</td>\n      <td>760000</td>\n      <td>Happy Valley</td>\n      <td>P354</td>\n    </tr>\n    <tr>\n      <th>3460</th>\n      <td>3</td>\n      <td>4</td>\n      <td>7.0</td>\n      <td>CHINA DELIGHT(N148)</td>\n      <td>T H So</td>\n      <td>K W Lui</td>\n      <td>121.0</td>\n      <td>1031.0</td>\n      <td>2.0</td>\n      <td>1-1/4</td>\n      <td>12 12 12 4</td>\n      <td>1.40.38</td>\n      <td>13.0</td>\n      <td>2015-06-03</td>\n      <td>2</td>\n      <td>4</td>\n      <td>1650</td>\n      <td>GOOD TO FIRM</td>\n      <td>MOUNT CAMERON HANDICAP</td>\n      <td>TURF - A COURSE</td>\n      <td>760000</td>\n      <td>Happy Valley</td>\n      <td>N148</td>\n    </tr>\n    <tr>\n      <th>4574</th>\n      <td>4</td>\n      <td>5</td>\n      <td>2.0</td>\n      <td>AMAZING ALWAYS(N432)</td>\n      <td>D Whyte</td>\n      <td>D E Ferraris</td>\n      <td>125.0</td>\n      <td>1133.0</td>\n      <td>7.0</td>\n      <td>1-1/4</td>\n      <td>8 7 8 5</td>\n      <td>1.40.40</td>\n      <td>6.8</td>\n      <td>2015-06-03</td>\n      <td>2</td>\n      <td>4</td>\n      <td>1650</td>\n      <td>GOOD TO FIRM</td>\n      <td>MOUNT CAMERON HANDICAP</td>\n      <td>TURF - A COURSE</td>\n      <td>760000</td>\n      <td>Happy Valley</td>\n      <td>N432</td>\n    </tr>\n    <tr>\n      <th>5686</th>\n      <td>5</td>\n      <td>6</td>\n      <td>10.0</td>\n      <td>RED COURAGE(N110)</td>\n      <td>K Teetan</td>\n      <td>J Size</td>\n      <td>117.0</td>\n      <td>1186.0</td>\n      <td>5.0</td>\n      <td>2</td>\n      <td>3 2 3 6</td>\n      <td>1.40.50</td>\n      <td>11.0</td>\n      <td>2015-06-03</td>\n      <td>2</td>\n      <td>4</td>\n      <td>1650</td>\n      <td>GOOD TO FIRM</td>\n      <td>MOUNT CAMERON HANDICAP</td>\n      <td>TURF - A COURSE</td>\n      <td>760000</td>\n      <td>Happy Valley</td>\n      <td>N110</td>\n    </tr>\n    <tr>\n      <th>6797</th>\n      <td>6</td>\n      <td>7</td>\n      <td>12.0</td>\n      <td>DRAGON GLORY(P130)</td>\n      <td>M Chadwick</td>\n      <td>C W Chang</td>\n      <td>113.0</td>\n      <td>1156.0</td>\n      <td>3.0</td>\n      <td>2</td>\n      <td>4 6 4 7</td>\n      <td>1.40.51</td>\n      <td>10.0</td>\n      <td>2015-06-03</td>\n      <td>2</td>\n      <td>4</td>\n      <td>1650</td>\n      <td>GOOD TO FIRM</td>\n      <td>MOUNT CAMERON HANDICAP</td>\n      <td>TURF - A COURSE</td>\n      <td>760000</td>\n      <td>Happy Valley</td>\n      <td>P130</td>\n    </tr>\n    <tr>\n      <th>7900</th>\n      <td>7</td>\n      <td>8</td>\n      <td>3.0</td>\n      <td>CIRCUIT STAR(N220)</td>\n      <td>K C Leung</td>\n      <td>K L Man</td>\n      <td>123.0</td>\n      <td>1054.0</td>\n      <td>9.0</td>\n      <td>2</td>\n      <td>7 8 7 8</td>\n      <td>1.40.52</td>\n      <td>30.0</td>\n      <td>2015-06-03</td>\n      <td>2</td>\n      <td>4</td>\n      <td>1650</td>\n      <td>GOOD TO FIRM</td>\n      <td>MOUNT CAMERON HANDICAP</td>\n      <td>TURF - A COURSE</td>\n      <td>760000</td>\n      <td>Happy Valley</td>\n      <td>N220</td>\n    </tr>\n    <tr>\n      <th>9001</th>\n      <td>8</td>\n      <td>9</td>\n      <td>4.0</td>\n      <td>MAC ROW(N252)</td>\n      <td>M L Yeung</td>\n      <td>A Lee</td>\n      <td>122.0</td>\n      <td>1001.0</td>\n      <td>8.0</td>\n      <td>3-3/4</td>\n      <td>9 9 11 9</td>\n      <td>1.40.78</td>\n      <td>9.9</td>\n      <td>2015-06-03</td>\n      <td>2</td>\n      <td>4</td>\n      <td>1650</td>\n      <td>GOOD TO FIRM</td>\n      <td>MOUNT CAMERON HANDICAP</td>\n      <td>TURF - A COURSE</td>\n      <td>760000</td>\n      <td>Happy Valley</td>\n      <td>N252</td>\n    </tr>\n    <tr>\n      <th>10092</th>\n      <td>9</td>\n      <td>10</td>\n      <td>8.0</td>\n      <td>CONFUCIUS SPIRIT(S329)</td>\n      <td>N Callan</td>\n      <td>S Woods</td>\n      <td>120.0</td>\n      <td>1088.0</td>\n      <td>4.0</td>\n      <td>5</td>\n      <td>6 5 6 10</td>\n      <td>1.40.98</td>\n      <td>10.0</td>\n      <td>2015-06-03</td>\n      <td>2</td>\n      <td>4</td>\n      <td>1650</td>\n      <td>GOOD TO FIRM</td>\n      <td>MOUNT CAMERON HANDICAP</td>\n      <td>TURF - A COURSE</td>\n      <td>760000</td>\n      <td>Happy Valley</td>\n      <td>S329</td>\n    </tr>\n    <tr>\n      <th>11166</th>\n      <td>10</td>\n      <td>11</td>\n      <td>6.0</td>\n      <td>SPIRIT SOARING(N099)</td>\n      <td>N Rawiller</td>\n      <td>W Y So</td>\n      <td>124.0</td>\n      <td>1098.0</td>\n      <td>6.0</td>\n      <td>5-1/4</td>\n      <td>1 1 1 11</td>\n      <td>1.41.04</td>\n      <td>10.0</td>\n      <td>2015-06-03</td>\n      <td>2</td>\n      <td>4</td>\n      <td>1650</td>\n      <td>GOOD TO FIRM</td>\n      <td>MOUNT CAMERON HANDICAP</td>\n      <td>TURF - A COURSE</td>\n      <td>760000</td>\n      <td>Happy Valley</td>\n      <td>N099</td>\n    </tr>\n    <tr>\n      <th>12220</th>\n      <td>11</td>\n      <td>12</td>\n      <td>9.0</td>\n      <td>SOUTHERN SPRINGS(P139)</td>\n      <td>H W Lai</td>\n      <td>C S Shum</td>\n      <td>118.0</td>\n      <td>1112.0</td>\n      <td>10.0</td>\n      <td>11-3/4</td>\n      <td>5 4 5 12</td>\n      <td>1.42.07</td>\n      <td>38.0</td>\n      <td>2015-06-03</td>\n      <td>2</td>\n      <td>4</td>\n      <td>1650</td>\n      <td>GOOD TO FIRM</td>\n      <td>MOUNT CAMERON HANDICAP</td>\n      <td>TURF - A COURSE</td>\n      <td>760000</td>\n      <td>Happy Valley</td>\n      <td>P139</td>\n    </tr>\n  </tbody>\n</table>\n</div>"
     },
     "metadata": {},
     "execution_count": 6
    }
   ],
   "source": [
    "#results[results['raceno'] == 1].groupby(['course','raceno']).size()\n",
    "\n",
    "# results[(results['raceno'] == 1) & (results['date'] == '2015-06-03')].groupby(['venue','course']).size()\n",
    "\n",
    "results.groupby(['date','venue','course','raceno']).size()\n",
    "\n",
    "\n",
    "results[(results['course'] == 'TURF - A COURSE') & (results['date'] == '2015-06-03') & (results['raceno'] == 2)]"
   ]
  },
  {
   "cell_type": "code",
   "execution_count": 7,
   "metadata": {},
   "outputs": [
    {
     "output_type": "execute_result",
     "data": {
      "text/plain": "            date         venue           course  raceno  count_horse\n0     2015-06-03  Happy Valley  TURF - A COURSE       1           12\n1     2015-06-03  Happy Valley  TURF - A COURSE       2           12\n2     2015-06-03  Happy Valley  TURF - A COURSE       3           12\n3     2015-06-03  Happy Valley  TURF - A COURSE       4           12\n4     2015-06-03  Happy Valley  TURF - A COURSE       5           12\n...          ...           ...              ...     ...          ...\n1109  2017-07-16       Sha Tin  TURF - C COURSE       7           15\n1110  2017-07-16       Sha Tin  TURF - C COURSE       8            8\n1111  2017-07-16       Sha Tin  TURF - C COURSE       9           15\n1112  2017-07-16       Sha Tin  TURF - C COURSE      10           13\n1113  2017-07-16       Sha Tin  TURF - C COURSE      11           14\n\n[1114 rows x 5 columns]",
      "text/html": "<div>\n<style scoped>\n    .dataframe tbody tr th:only-of-type {\n        vertical-align: middle;\n    }\n\n    .dataframe tbody tr th {\n        vertical-align: top;\n    }\n\n    .dataframe thead th {\n        text-align: right;\n    }\n</style>\n<table border=\"1\" class=\"dataframe\">\n  <thead>\n    <tr style=\"text-align: right;\">\n      <th></th>\n      <th>date</th>\n      <th>venue</th>\n      <th>course</th>\n      <th>raceno</th>\n      <th>count_horse</th>\n    </tr>\n  </thead>\n  <tbody>\n    <tr>\n      <th>0</th>\n      <td>2015-06-03</td>\n      <td>Happy Valley</td>\n      <td>TURF - A COURSE</td>\n      <td>1</td>\n      <td>12</td>\n    </tr>\n    <tr>\n      <th>1</th>\n      <td>2015-06-03</td>\n      <td>Happy Valley</td>\n      <td>TURF - A COURSE</td>\n      <td>2</td>\n      <td>12</td>\n    </tr>\n    <tr>\n      <th>2</th>\n      <td>2015-06-03</td>\n      <td>Happy Valley</td>\n      <td>TURF - A COURSE</td>\n      <td>3</td>\n      <td>12</td>\n    </tr>\n    <tr>\n      <th>3</th>\n      <td>2015-06-03</td>\n      <td>Happy Valley</td>\n      <td>TURF - A COURSE</td>\n      <td>4</td>\n      <td>12</td>\n    </tr>\n    <tr>\n      <th>4</th>\n      <td>2015-06-03</td>\n      <td>Happy Valley</td>\n      <td>TURF - A COURSE</td>\n      <td>5</td>\n      <td>12</td>\n    </tr>\n    <tr>\n      <th>...</th>\n      <td>...</td>\n      <td>...</td>\n      <td>...</td>\n      <td>...</td>\n      <td>...</td>\n    </tr>\n    <tr>\n      <th>1109</th>\n      <td>2017-07-16</td>\n      <td>Sha Tin</td>\n      <td>TURF - C COURSE</td>\n      <td>7</td>\n      <td>15</td>\n    </tr>\n    <tr>\n      <th>1110</th>\n      <td>2017-07-16</td>\n      <td>Sha Tin</td>\n      <td>TURF - C COURSE</td>\n      <td>8</td>\n      <td>8</td>\n    </tr>\n    <tr>\n      <th>1111</th>\n      <td>2017-07-16</td>\n      <td>Sha Tin</td>\n      <td>TURF - C COURSE</td>\n      <td>9</td>\n      <td>15</td>\n    </tr>\n    <tr>\n      <th>1112</th>\n      <td>2017-07-16</td>\n      <td>Sha Tin</td>\n      <td>TURF - C COURSE</td>\n      <td>10</td>\n      <td>13</td>\n    </tr>\n    <tr>\n      <th>1113</th>\n      <td>2017-07-16</td>\n      <td>Sha Tin</td>\n      <td>TURF - C COURSE</td>\n      <td>11</td>\n      <td>14</td>\n    </tr>\n  </tbody>\n</table>\n<p>1114 rows × 5 columns</p>\n</div>"
     },
     "metadata": {},
     "execution_count": 7
    }
   ],
   "source": [
    "results.groupby(['date','venue','course','raceno']).size().to_frame('count_horse').reset_index()"
   ]
  },
  {
   "cell_type": "code",
   "execution_count": 8,
   "metadata": {},
   "outputs": [
    {
     "output_type": "execute_result",
     "data": {
      "text/plain": "array(['C Fownes', 'D J Hall', 'Y S Tsui', 'J Moore', 'W Y So',\n       'A Schutz', 'K W Lui', 'P F Yiu', 'T K Ng', 'D Cruz', 'C S Shum',\n       'C H Yip', 'K L Man', 'A T Millard', 'C W Chang', 'J Size', 'L Ho',\n       \"P O'Sullivan\", 'D E Ferraris', 'A Lee', 'A S Cruz', 'S Woods',\n       'T P Yung', 'R Gibson', \"A P O'Brien\", 'N Hori', 'M Hawkes',\n       'M Sakaguchi', 'A Fabre', 'M Saito', 'J Lau', 'de Royer Dupre',\n       'H Fujiwara', 'M Delzangles', 'Y Ikee', 'R Okubo', 'G Enebish',\n       'F Rohaut', 'T Tanaka', 'K Lees', 'C Appleby', 'A Bull',\n       'G W Moore', 'C Waller', 'Barande-Barbe', 'H Otonashi',\n       'S Kunieda', 'P B Shaw', 'W A Ward', 'Y C Fung', 'D A Hayes',\n       'M F de Kock', 'K Yoshimura', 'M C Tam', 'K Fujioka', 'J M Moore',\n       'Pat Lee', 'Sir M R Stoute', 'M L W Bell', 'E M Lynam',\n       'G Portelli', 'R Hannon', 'P Bary', 'T Ozeki', \"D O'Meara\",\n       'W H Tse', 'F Head', \"J O'Shea\", 'R Fahey', 'K C Chong',\n       'D K Weld', 'C Clement', 'E Mader', 'R Heathcote', 'S H Cheong',\n       'A de Watrigant', 'K C Wong'], dtype=object)"
     },
     "metadata": {},
     "execution_count": 8
    }
   ],
   "source": [
    "results['trainer'].unique()"
   ]
  },
  {
   "cell_type": "code",
   "execution_count": 9,
   "metadata": {},
   "outputs": [
    {
     "output_type": "execute_result",
     "data": {
      "text/plain": "array(['C Y Ho', 'B Prebble', 'H N Wong', 'G Mosse', 'J Moreira',\n       'A Suborics', 'M L Yeung', 'N Rawiller', 'D Whyte', 'C Schofield',\n       'Z Purton', 'K Teetan', 'G Benoist', 'N Callan', 'S de Sousa',\n       'R Moore', 'Y T Cheng', 'T H So', 'O Doleuze', 'K K Chiong',\n       'K C Leung', 'M Chadwick', 'C Williams', 'S Clipperton',\n       'U Rispoli', 'A Sanna', 'W M Lai', 'C K Tong', 'H W Lai',\n       'V Cheminaud', 'T Angland', 'O Bosson', 'M Guyon', 'H T Mo',\n       'M F Poon', 'K C Ng', 'E da Silva', 'T Berry', 'A Badel', 'D Lane',\n       'R Fourie', 'O Murphy', 'H Bowman', 'G Lerena', 'L Salles',\n       'M Demuro', 'C Soumillon', 'Y Take', 'G Schofield', 'K Tosaki',\n       'C Murray', 'F Geroux', 'D Oliver', 'M Barzalona', 'L Corrales',\n       'P Smullen', 'C Brown', 'N Juglall', 'J McDonald', 'Y Iwata',\n       'P-C Boudot', 'O Peslier', 'S Pasquier', 'H Lam', 'R Myers',\n       'T Clark', 'S Hamanaka', 'M Ebina', 'Y Kawada', 'B Shinn',\n       'B Vorster', 'J Rosario', 'W L Ho', 'C Perkins', \"D O'Brien\",\n       'M Wepner', 'C F Wong', 'V Espinoza', 'C Hayes', 'B Melham',\n       'J Doyle', 'R Curatolo', '---', 'D Tudhope', 'T Jarnet', 'G Lee',\n       'D Browne', 'D Chong'], dtype=object)"
     },
     "metadata": {},
     "execution_count": 9
    }
   ],
   "source": [
    "results['jockey'].unique()"
   ]
  },
  {
   "cell_type": "code",
   "execution_count": 10,
   "metadata": {},
   "outputs": [],
   "source": [
    "df = pd.pivot_table(results,\n",
    "               index = ['date','venue','course','raceno'],\n",
    "               columns = ['draw'],\n",
    "               values = ['horse_code'],#,'trainer','jockey'],\n",
    "               aggfunc = max)\n",
    "\n",
    "df.reset_index(inplace = True)"
   ]
  },
  {
   "cell_type": "code",
   "execution_count": 11,
   "metadata": {},
   "outputs": [],
   "source": [
    "df = df.droplevel(1, axis = 1)\n",
    "df.columns = ['date', 'venue', 'course', 'raceno', 'horse_1', 'horse_2', 'horse_3',\n",
    "      'horse_4', 'horse_5', 'horse_6', 'horse_7', 'horse_8', 'horse_9', 'horse_10',\n",
    "      'horse_11', 'horse_12', 'horse_13', 'horse_14']"
   ]
  },
  {
   "cell_type": "code",
   "execution_count": 12,
   "metadata": {},
   "outputs": [
    {
     "output_type": "execute_result",
     "data": {
      "text/plain": "            date         venue           course  raceno horse_1 horse_2  \\\n0     2015-06-03  Happy Valley  TURF - A COURSE       1    S243    L251   \n1     2015-06-03  Happy Valley  TURF - A COURSE       2    P422    N148   \n2     2015-06-03  Happy Valley  TURF - A COURSE       3    S445    N265   \n3     2015-06-03  Happy Valley  TURF - A COURSE       4    T163    S224   \n4     2015-06-03  Happy Valley  TURF - A COURSE       5    S137    P016   \n...          ...           ...              ...     ...     ...     ...   \n1109  2017-07-16       Sha Tin  TURF - C COURSE       7    S332    A096   \n1110  2017-07-16       Sha Tin  TURF - C COURSE       8    A066    T198   \n1111  2017-07-16       Sha Tin  TURF - C COURSE       9    A352    A139   \n1112  2017-07-16       Sha Tin  TURF - C COURSE      10    V118    P396   \n1113  2017-07-16       Sha Tin  TURF - C COURSE      11    S298    A098   \n\n     horse_3 horse_4 horse_5 horse_6 horse_7 horse_8 horse_9 horse_10  \\\n0       N186    P331    P175    P204    S075    M406    M255     N359   \n1       P130    S329    N110    N099    N432    N252    N220     P139   \n2       M273    N055    S086    P308    T072    P088    N134     N317   \n3       P213    S104    S349    N193    S330    S170    L136     S160   \n4       P371    P418    T069    S157    S254    P444    P064     N295   \n...      ...     ...     ...     ...     ...     ...     ...      ...   \n1109    A120    S312    V361    T376    T046    V321    T094     V381   \n1110    V397    P230    S393    V181    T118    A113     NaN      NaN   \n1111    P363    V040    A286    A164    A248    A168    A249     T117   \n1112    A337    V235    A006    V256    A217    A257    V250     S419   \n1113    V186    T371    S358    V214    V099    T375    V411     V372   \n\n     horse_11 horse_12 horse_13 horse_14  \n0        S150      NaN      NaN      NaN  \n1        P354     P095      NaN      NaN  \n2        T133     T328      NaN      NaN  \n3        S295     N233      NaN      NaN  \n4        M026     S051      NaN      NaN  \n...       ...      ...      ...      ...  \n1109     A095     A135     A109     V192  \n1110      NaN      NaN      NaN      NaN  \n1111     S362     A232     A163     V176  \n1112     V379     A287      NaN      NaN  \n1113     A183     T396     T242     A041  \n\n[1114 rows x 18 columns]",
      "text/html": "<div>\n<style scoped>\n    .dataframe tbody tr th:only-of-type {\n        vertical-align: middle;\n    }\n\n    .dataframe tbody tr th {\n        vertical-align: top;\n    }\n\n    .dataframe thead th {\n        text-align: right;\n    }\n</style>\n<table border=\"1\" class=\"dataframe\">\n  <thead>\n    <tr style=\"text-align: right;\">\n      <th></th>\n      <th>date</th>\n      <th>venue</th>\n      <th>course</th>\n      <th>raceno</th>\n      <th>horse_1</th>\n      <th>horse_2</th>\n      <th>horse_3</th>\n      <th>horse_4</th>\n      <th>horse_5</th>\n      <th>horse_6</th>\n      <th>horse_7</th>\n      <th>horse_8</th>\n      <th>horse_9</th>\n      <th>horse_10</th>\n      <th>horse_11</th>\n      <th>horse_12</th>\n      <th>horse_13</th>\n      <th>horse_14</th>\n    </tr>\n  </thead>\n  <tbody>\n    <tr>\n      <th>0</th>\n      <td>2015-06-03</td>\n      <td>Happy Valley</td>\n      <td>TURF - A COURSE</td>\n      <td>1</td>\n      <td>S243</td>\n      <td>L251</td>\n      <td>N186</td>\n      <td>P331</td>\n      <td>P175</td>\n      <td>P204</td>\n      <td>S075</td>\n      <td>M406</td>\n      <td>M255</td>\n      <td>N359</td>\n      <td>S150</td>\n      <td>NaN</td>\n      <td>NaN</td>\n      <td>NaN</td>\n    </tr>\n    <tr>\n      <th>1</th>\n      <td>2015-06-03</td>\n      <td>Happy Valley</td>\n      <td>TURF - A COURSE</td>\n      <td>2</td>\n      <td>P422</td>\n      <td>N148</td>\n      <td>P130</td>\n      <td>S329</td>\n      <td>N110</td>\n      <td>N099</td>\n      <td>N432</td>\n      <td>N252</td>\n      <td>N220</td>\n      <td>P139</td>\n      <td>P354</td>\n      <td>P095</td>\n      <td>NaN</td>\n      <td>NaN</td>\n    </tr>\n    <tr>\n      <th>2</th>\n      <td>2015-06-03</td>\n      <td>Happy Valley</td>\n      <td>TURF - A COURSE</td>\n      <td>3</td>\n      <td>S445</td>\n      <td>N265</td>\n      <td>M273</td>\n      <td>N055</td>\n      <td>S086</td>\n      <td>P308</td>\n      <td>T072</td>\n      <td>P088</td>\n      <td>N134</td>\n      <td>N317</td>\n      <td>T133</td>\n      <td>T328</td>\n      <td>NaN</td>\n      <td>NaN</td>\n    </tr>\n    <tr>\n      <th>3</th>\n      <td>2015-06-03</td>\n      <td>Happy Valley</td>\n      <td>TURF - A COURSE</td>\n      <td>4</td>\n      <td>T163</td>\n      <td>S224</td>\n      <td>P213</td>\n      <td>S104</td>\n      <td>S349</td>\n      <td>N193</td>\n      <td>S330</td>\n      <td>S170</td>\n      <td>L136</td>\n      <td>S160</td>\n      <td>S295</td>\n      <td>N233</td>\n      <td>NaN</td>\n      <td>NaN</td>\n    </tr>\n    <tr>\n      <th>4</th>\n      <td>2015-06-03</td>\n      <td>Happy Valley</td>\n      <td>TURF - A COURSE</td>\n      <td>5</td>\n      <td>S137</td>\n      <td>P016</td>\n      <td>P371</td>\n      <td>P418</td>\n      <td>T069</td>\n      <td>S157</td>\n      <td>S254</td>\n      <td>P444</td>\n      <td>P064</td>\n      <td>N295</td>\n      <td>M026</td>\n      <td>S051</td>\n      <td>NaN</td>\n      <td>NaN</td>\n    </tr>\n    <tr>\n      <th>...</th>\n      <td>...</td>\n      <td>...</td>\n      <td>...</td>\n      <td>...</td>\n      <td>...</td>\n      <td>...</td>\n      <td>...</td>\n      <td>...</td>\n      <td>...</td>\n      <td>...</td>\n      <td>...</td>\n      <td>...</td>\n      <td>...</td>\n      <td>...</td>\n      <td>...</td>\n      <td>...</td>\n      <td>...</td>\n      <td>...</td>\n    </tr>\n    <tr>\n      <th>1109</th>\n      <td>2017-07-16</td>\n      <td>Sha Tin</td>\n      <td>TURF - C COURSE</td>\n      <td>7</td>\n      <td>S332</td>\n      <td>A096</td>\n      <td>A120</td>\n      <td>S312</td>\n      <td>V361</td>\n      <td>T376</td>\n      <td>T046</td>\n      <td>V321</td>\n      <td>T094</td>\n      <td>V381</td>\n      <td>A095</td>\n      <td>A135</td>\n      <td>A109</td>\n      <td>V192</td>\n    </tr>\n    <tr>\n      <th>1110</th>\n      <td>2017-07-16</td>\n      <td>Sha Tin</td>\n      <td>TURF - C COURSE</td>\n      <td>8</td>\n      <td>A066</td>\n      <td>T198</td>\n      <td>V397</td>\n      <td>P230</td>\n      <td>S393</td>\n      <td>V181</td>\n      <td>T118</td>\n      <td>A113</td>\n      <td>NaN</td>\n      <td>NaN</td>\n      <td>NaN</td>\n      <td>NaN</td>\n      <td>NaN</td>\n      <td>NaN</td>\n    </tr>\n    <tr>\n      <th>1111</th>\n      <td>2017-07-16</td>\n      <td>Sha Tin</td>\n      <td>TURF - C COURSE</td>\n      <td>9</td>\n      <td>A352</td>\n      <td>A139</td>\n      <td>P363</td>\n      <td>V040</td>\n      <td>A286</td>\n      <td>A164</td>\n      <td>A248</td>\n      <td>A168</td>\n      <td>A249</td>\n      <td>T117</td>\n      <td>S362</td>\n      <td>A232</td>\n      <td>A163</td>\n      <td>V176</td>\n    </tr>\n    <tr>\n      <th>1112</th>\n      <td>2017-07-16</td>\n      <td>Sha Tin</td>\n      <td>TURF - C COURSE</td>\n      <td>10</td>\n      <td>V118</td>\n      <td>P396</td>\n      <td>A337</td>\n      <td>V235</td>\n      <td>A006</td>\n      <td>V256</td>\n      <td>A217</td>\n      <td>A257</td>\n      <td>V250</td>\n      <td>S419</td>\n      <td>V379</td>\n      <td>A287</td>\n      <td>NaN</td>\n      <td>NaN</td>\n    </tr>\n    <tr>\n      <th>1113</th>\n      <td>2017-07-16</td>\n      <td>Sha Tin</td>\n      <td>TURF - C COURSE</td>\n      <td>11</td>\n      <td>S298</td>\n      <td>A098</td>\n      <td>V186</td>\n      <td>T371</td>\n      <td>S358</td>\n      <td>V214</td>\n      <td>V099</td>\n      <td>T375</td>\n      <td>V411</td>\n      <td>V372</td>\n      <td>A183</td>\n      <td>T396</td>\n      <td>T242</td>\n      <td>A041</td>\n    </tr>\n  </tbody>\n</table>\n<p>1114 rows × 18 columns</p>\n</div>"
     },
     "metadata": {},
     "execution_count": 12
    }
   ],
   "source": [
    "df"
   ]
  },
  {
   "cell_type": "code",
   "execution_count": 13,
   "metadata": {},
   "outputs": [],
   "source": [
    "win = pd.pivot_table(results[(results['plc'] == '1') | (results['plc'] == '1 DH')],\n",
    "               index = ['date','venue','course','raceno'],\n",
    "               values = ['draw'])\n",
    "\n",
    "win = win.reset_index().rename(columns = {'draw':'draw_winner'})"
   ]
  },
  {
   "cell_type": "code",
   "execution_count": null,
   "metadata": {},
   "outputs": [],
   "source": []
  },
  {
   "cell_type": "markdown",
   "metadata": {},
   "source": [
    "## Extracting horse code from the horse name"
   ]
  },
  {
   "cell_type": "markdown",
   "metadata": {},
   "source": [
    "## Import horse info file"
   ]
  },
  {
   "cell_type": "code",
   "execution_count": 14,
   "metadata": {},
   "outputs": [
    {
     "output_type": "execute_result",
     "data": {
      "text/plain": "                 horse country       trainer colour      sex  \\\n0             ()(S259)     NaN           NaN    NaN      NaN   \n1               (C368)     NaN           NaN    NaN      NaN   \n2    A BEAUTIFUL(T421)     AUS        W Y So    Bay  Gelding   \n3     A FAST ONE(S424)     AUS  D E Ferraris    Bay  Gelding   \n4  A SHIN HIKARI(V614)     JPN           NaN   Grey    Horse   \n\n                                      owner import_type  current_rating  \\\n0                                       NaN         NaN             NaN   \n1                                       NaN         NaN             NaN   \n2  Sandia Yit Lau Ying Lam & Yit Kwok Leung          PP            64.0   \n3      Samson Yip Yan Tion & David Vrijmoed         PPG            37.0   \n4                           Eishindo Co Ltd         VIS             NaN   \n\n   start_rating                sire       dam  age  \n0           NaN                 NaN       NaN  NaN  \n1           NaN                 NaN       NaN  NaN  \n2          58.0          Bushranger   Anfield  6.0  \n3          40.0  Holy Roman Emperor    Detail  6.0  \n4           NaN         Deep Impact  Catalina  NaN  ",
      "text/html": "<div>\n<style scoped>\n    .dataframe tbody tr th:only-of-type {\n        vertical-align: middle;\n    }\n\n    .dataframe tbody tr th {\n        vertical-align: top;\n    }\n\n    .dataframe thead th {\n        text-align: right;\n    }\n</style>\n<table border=\"1\" class=\"dataframe\">\n  <thead>\n    <tr style=\"text-align: right;\">\n      <th></th>\n      <th>horse</th>\n      <th>country</th>\n      <th>trainer</th>\n      <th>colour</th>\n      <th>sex</th>\n      <th>owner</th>\n      <th>import_type</th>\n      <th>current_rating</th>\n      <th>start_rating</th>\n      <th>sire</th>\n      <th>dam</th>\n      <th>age</th>\n    </tr>\n  </thead>\n  <tbody>\n    <tr>\n      <th>0</th>\n      <td>()(S259)</td>\n      <td>NaN</td>\n      <td>NaN</td>\n      <td>NaN</td>\n      <td>NaN</td>\n      <td>NaN</td>\n      <td>NaN</td>\n      <td>NaN</td>\n      <td>NaN</td>\n      <td>NaN</td>\n      <td>NaN</td>\n      <td>NaN</td>\n    </tr>\n    <tr>\n      <th>1</th>\n      <td>(C368)</td>\n      <td>NaN</td>\n      <td>NaN</td>\n      <td>NaN</td>\n      <td>NaN</td>\n      <td>NaN</td>\n      <td>NaN</td>\n      <td>NaN</td>\n      <td>NaN</td>\n      <td>NaN</td>\n      <td>NaN</td>\n      <td>NaN</td>\n    </tr>\n    <tr>\n      <th>2</th>\n      <td>A BEAUTIFUL(T421)</td>\n      <td>AUS</td>\n      <td>W Y So</td>\n      <td>Bay</td>\n      <td>Gelding</td>\n      <td>Sandia Yit Lau Ying Lam &amp; Yit Kwok Leung</td>\n      <td>PP</td>\n      <td>64.0</td>\n      <td>58.0</td>\n      <td>Bushranger</td>\n      <td>Anfield</td>\n      <td>6.0</td>\n    </tr>\n    <tr>\n      <th>3</th>\n      <td>A FAST ONE(S424)</td>\n      <td>AUS</td>\n      <td>D E Ferraris</td>\n      <td>Bay</td>\n      <td>Gelding</td>\n      <td>Samson Yip Yan Tion &amp; David Vrijmoed</td>\n      <td>PPG</td>\n      <td>37.0</td>\n      <td>40.0</td>\n      <td>Holy Roman Emperor</td>\n      <td>Detail</td>\n      <td>6.0</td>\n    </tr>\n    <tr>\n      <th>4</th>\n      <td>A SHIN HIKARI(V614)</td>\n      <td>JPN</td>\n      <td>NaN</td>\n      <td>Grey</td>\n      <td>Horse</td>\n      <td>Eishindo Co Ltd</td>\n      <td>VIS</td>\n      <td>NaN</td>\n      <td>NaN</td>\n      <td>Deep Impact</td>\n      <td>Catalina</td>\n      <td>NaN</td>\n    </tr>\n  </tbody>\n</table>\n</div>"
     },
     "metadata": {},
     "execution_count": 14
    }
   ],
   "source": [
    "horse_info = pd.read_csv('horse_info.csv', index_col = 0)\n",
    "\n",
    "horse_info.head()"
   ]
  },
  {
   "cell_type": "markdown",
   "metadata": {},
   "source": [
    "## Extracting horse code from the horse name"
   ]
  },
  {
   "cell_type": "code",
   "execution_count": 15,
   "metadata": {},
   "outputs": [
    {
     "output_type": "execute_result",
     "data": {
      "text/plain": "                 horse country       trainer colour      sex  \\\n0             ()(S259)     NaN           NaN    NaN      NaN   \n1               (C368)     NaN           NaN    NaN      NaN   \n2    A BEAUTIFUL(T421)     AUS        W Y So    Bay  Gelding   \n3     A FAST ONE(S424)     AUS  D E Ferraris    Bay  Gelding   \n4  A SHIN HIKARI(V614)     JPN           NaN   Grey    Horse   \n\n                                      owner import_type  current_rating  \\\n0                                       NaN         NaN             NaN   \n1                                       NaN         NaN             NaN   \n2  Sandia Yit Lau Ying Lam & Yit Kwok Leung          PP            64.0   \n3      Samson Yip Yan Tion & David Vrijmoed         PPG            37.0   \n4                           Eishindo Co Ltd         VIS             NaN   \n\n   start_rating                sire       dam  age horse_code  \n0           NaN                 NaN       NaN  NaN       S259  \n1           NaN                 NaN       NaN  NaN       C368  \n2          58.0          Bushranger   Anfield  6.0       T421  \n3          40.0  Holy Roman Emperor    Detail  6.0       S424  \n4           NaN         Deep Impact  Catalina  NaN       V614  ",
      "text/html": "<div>\n<style scoped>\n    .dataframe tbody tr th:only-of-type {\n        vertical-align: middle;\n    }\n\n    .dataframe tbody tr th {\n        vertical-align: top;\n    }\n\n    .dataframe thead th {\n        text-align: right;\n    }\n</style>\n<table border=\"1\" class=\"dataframe\">\n  <thead>\n    <tr style=\"text-align: right;\">\n      <th></th>\n      <th>horse</th>\n      <th>country</th>\n      <th>trainer</th>\n      <th>colour</th>\n      <th>sex</th>\n      <th>owner</th>\n      <th>import_type</th>\n      <th>current_rating</th>\n      <th>start_rating</th>\n      <th>sire</th>\n      <th>dam</th>\n      <th>age</th>\n      <th>horse_code</th>\n    </tr>\n  </thead>\n  <tbody>\n    <tr>\n      <th>0</th>\n      <td>()(S259)</td>\n      <td>NaN</td>\n      <td>NaN</td>\n      <td>NaN</td>\n      <td>NaN</td>\n      <td>NaN</td>\n      <td>NaN</td>\n      <td>NaN</td>\n      <td>NaN</td>\n      <td>NaN</td>\n      <td>NaN</td>\n      <td>NaN</td>\n      <td>S259</td>\n    </tr>\n    <tr>\n      <th>1</th>\n      <td>(C368)</td>\n      <td>NaN</td>\n      <td>NaN</td>\n      <td>NaN</td>\n      <td>NaN</td>\n      <td>NaN</td>\n      <td>NaN</td>\n      <td>NaN</td>\n      <td>NaN</td>\n      <td>NaN</td>\n      <td>NaN</td>\n      <td>NaN</td>\n      <td>C368</td>\n    </tr>\n    <tr>\n      <th>2</th>\n      <td>A BEAUTIFUL(T421)</td>\n      <td>AUS</td>\n      <td>W Y So</td>\n      <td>Bay</td>\n      <td>Gelding</td>\n      <td>Sandia Yit Lau Ying Lam &amp; Yit Kwok Leung</td>\n      <td>PP</td>\n      <td>64.0</td>\n      <td>58.0</td>\n      <td>Bushranger</td>\n      <td>Anfield</td>\n      <td>6.0</td>\n      <td>T421</td>\n    </tr>\n    <tr>\n      <th>3</th>\n      <td>A FAST ONE(S424)</td>\n      <td>AUS</td>\n      <td>D E Ferraris</td>\n      <td>Bay</td>\n      <td>Gelding</td>\n      <td>Samson Yip Yan Tion &amp; David Vrijmoed</td>\n      <td>PPG</td>\n      <td>37.0</td>\n      <td>40.0</td>\n      <td>Holy Roman Emperor</td>\n      <td>Detail</td>\n      <td>6.0</td>\n      <td>S424</td>\n    </tr>\n    <tr>\n      <th>4</th>\n      <td>A SHIN HIKARI(V614)</td>\n      <td>JPN</td>\n      <td>NaN</td>\n      <td>Grey</td>\n      <td>Horse</td>\n      <td>Eishindo Co Ltd</td>\n      <td>VIS</td>\n      <td>NaN</td>\n      <td>NaN</td>\n      <td>Deep Impact</td>\n      <td>Catalina</td>\n      <td>NaN</td>\n      <td>V614</td>\n    </tr>\n  </tbody>\n</table>\n</div>"
     },
     "metadata": {},
     "execution_count": 15
    }
   ],
   "source": [
    "horse_info['horse_code'] = horse_info['horse'].apply(lambda x: extract_horse_code(pattern, x))\n",
    "horse_info.head()"
   ]
  },
  {
   "cell_type": "code",
   "execution_count": 16,
   "metadata": {},
   "outputs": [
    {
     "output_type": "execute_result",
     "data": {
      "text/plain": "1790"
     },
     "metadata": {},
     "execution_count": 16
    }
   ],
   "source": [
    "len(set(horse_info['horse_code']).intersection(set(results['horse_code'])))"
   ]
  },
  {
   "cell_type": "code",
   "execution_count": 17,
   "metadata": {},
   "outputs": [
    {
     "output_type": "execute_result",
     "data": {
      "text/plain": "3935"
     },
     "metadata": {},
     "execution_count": 17
    }
   ],
   "source": [
    "len(set(horse_info['horse_code']))"
   ]
  },
  {
   "cell_type": "code",
   "execution_count": 18,
   "metadata": {},
   "outputs": [
    {
     "output_type": "execute_result",
     "data": {
      "text/plain": "1807"
     },
     "metadata": {},
     "execution_count": 18
    }
   ],
   "source": [
    "len(set(results['horse_code']))"
   ]
  },
  {
   "cell_type": "code",
   "execution_count": 19,
   "metadata": {},
   "outputs": [
    {
     "output_type": "execute_result",
     "data": {
      "text/plain": "     horse_code      sex country  age\n0          S259      NaN     NaN  NaN\n1          C368      NaN     NaN  NaN\n2          T421  Gelding     AUS  6.0\n3          S424  Gelding     AUS  6.0\n4          V614    Horse     JPN  NaN\n...         ...      ...     ...  ...\n3935       S197  Gelding      FR  NaN\n3936       A221  Gelding     AUS  4.0\n3937       K180  Gelding      GB  NaN\n3938       B113  Gelding      NZ  4.0\n3939       V335  Gelding     GER  NaN\n\n[3940 rows x 4 columns]",
      "text/html": "<div>\n<style scoped>\n    .dataframe tbody tr th:only-of-type {\n        vertical-align: middle;\n    }\n\n    .dataframe tbody tr th {\n        vertical-align: top;\n    }\n\n    .dataframe thead th {\n        text-align: right;\n    }\n</style>\n<table border=\"1\" class=\"dataframe\">\n  <thead>\n    <tr style=\"text-align: right;\">\n      <th></th>\n      <th>horse_code</th>\n      <th>sex</th>\n      <th>country</th>\n      <th>age</th>\n    </tr>\n  </thead>\n  <tbody>\n    <tr>\n      <th>0</th>\n      <td>S259</td>\n      <td>NaN</td>\n      <td>NaN</td>\n      <td>NaN</td>\n    </tr>\n    <tr>\n      <th>1</th>\n      <td>C368</td>\n      <td>NaN</td>\n      <td>NaN</td>\n      <td>NaN</td>\n    </tr>\n    <tr>\n      <th>2</th>\n      <td>T421</td>\n      <td>Gelding</td>\n      <td>AUS</td>\n      <td>6.0</td>\n    </tr>\n    <tr>\n      <th>3</th>\n      <td>S424</td>\n      <td>Gelding</td>\n      <td>AUS</td>\n      <td>6.0</td>\n    </tr>\n    <tr>\n      <th>4</th>\n      <td>V614</td>\n      <td>Horse</td>\n      <td>JPN</td>\n      <td>NaN</td>\n    </tr>\n    <tr>\n      <th>...</th>\n      <td>...</td>\n      <td>...</td>\n      <td>...</td>\n      <td>...</td>\n    </tr>\n    <tr>\n      <th>3935</th>\n      <td>S197</td>\n      <td>Gelding</td>\n      <td>FR</td>\n      <td>NaN</td>\n    </tr>\n    <tr>\n      <th>3936</th>\n      <td>A221</td>\n      <td>Gelding</td>\n      <td>AUS</td>\n      <td>4.0</td>\n    </tr>\n    <tr>\n      <th>3937</th>\n      <td>K180</td>\n      <td>Gelding</td>\n      <td>GB</td>\n      <td>NaN</td>\n    </tr>\n    <tr>\n      <th>3938</th>\n      <td>B113</td>\n      <td>Gelding</td>\n      <td>NZ</td>\n      <td>4.0</td>\n    </tr>\n    <tr>\n      <th>3939</th>\n      <td>V335</td>\n      <td>Gelding</td>\n      <td>GER</td>\n      <td>NaN</td>\n    </tr>\n  </tbody>\n</table>\n<p>3940 rows × 4 columns</p>\n</div>"
     },
     "metadata": {},
     "execution_count": 19
    }
   ],
   "source": [
    "horse_dim = horse_info[['horse_code','sex','country','age']]\n",
    "\n",
    "horse_dim"
   ]
  },
  {
   "cell_type": "code",
   "execution_count": 20,
   "metadata": {},
   "outputs": [
    {
     "output_type": "execute_result",
     "data": {
      "text/plain": "      Brown  Colt  Filly  Gelding  Grey  Horse  Mare  Rig  Roan\n0         0     0      0        0     0      0     0    0     0\n1         0     0      0        0     0      0     0    0     0\n2         0     0      0        1     0      0     0    0     0\n3         0     0      0        1     0      0     0    0     0\n4         0     0      0        0     0      1     0    0     0\n...     ...   ...    ...      ...   ...    ...   ...  ...   ...\n3935      0     0      0        1     0      0     0    0     0\n3936      0     0      0        1     0      0     0    0     0\n3937      0     0      0        1     0      0     0    0     0\n3938      0     0      0        1     0      0     0    0     0\n3939      0     0      0        1     0      0     0    0     0\n\n[3940 rows x 9 columns]",
      "text/html": "<div>\n<style scoped>\n    .dataframe tbody tr th:only-of-type {\n        vertical-align: middle;\n    }\n\n    .dataframe tbody tr th {\n        vertical-align: top;\n    }\n\n    .dataframe thead th {\n        text-align: right;\n    }\n</style>\n<table border=\"1\" class=\"dataframe\">\n  <thead>\n    <tr style=\"text-align: right;\">\n      <th></th>\n      <th>Brown</th>\n      <th>Colt</th>\n      <th>Filly</th>\n      <th>Gelding</th>\n      <th>Grey</th>\n      <th>Horse</th>\n      <th>Mare</th>\n      <th>Rig</th>\n      <th>Roan</th>\n    </tr>\n  </thead>\n  <tbody>\n    <tr>\n      <th>0</th>\n      <td>0</td>\n      <td>0</td>\n      <td>0</td>\n      <td>0</td>\n      <td>0</td>\n      <td>0</td>\n      <td>0</td>\n      <td>0</td>\n      <td>0</td>\n    </tr>\n    <tr>\n      <th>1</th>\n      <td>0</td>\n      <td>0</td>\n      <td>0</td>\n      <td>0</td>\n      <td>0</td>\n      <td>0</td>\n      <td>0</td>\n      <td>0</td>\n      <td>0</td>\n    </tr>\n    <tr>\n      <th>2</th>\n      <td>0</td>\n      <td>0</td>\n      <td>0</td>\n      <td>1</td>\n      <td>0</td>\n      <td>0</td>\n      <td>0</td>\n      <td>0</td>\n      <td>0</td>\n    </tr>\n    <tr>\n      <th>3</th>\n      <td>0</td>\n      <td>0</td>\n      <td>0</td>\n      <td>1</td>\n      <td>0</td>\n      <td>0</td>\n      <td>0</td>\n      <td>0</td>\n      <td>0</td>\n    </tr>\n    <tr>\n      <th>4</th>\n      <td>0</td>\n      <td>0</td>\n      <td>0</td>\n      <td>0</td>\n      <td>0</td>\n      <td>1</td>\n      <td>0</td>\n      <td>0</td>\n      <td>0</td>\n    </tr>\n    <tr>\n      <th>...</th>\n      <td>...</td>\n      <td>...</td>\n      <td>...</td>\n      <td>...</td>\n      <td>...</td>\n      <td>...</td>\n      <td>...</td>\n      <td>...</td>\n      <td>...</td>\n    </tr>\n    <tr>\n      <th>3935</th>\n      <td>0</td>\n      <td>0</td>\n      <td>0</td>\n      <td>1</td>\n      <td>0</td>\n      <td>0</td>\n      <td>0</td>\n      <td>0</td>\n      <td>0</td>\n    </tr>\n    <tr>\n      <th>3936</th>\n      <td>0</td>\n      <td>0</td>\n      <td>0</td>\n      <td>1</td>\n      <td>0</td>\n      <td>0</td>\n      <td>0</td>\n      <td>0</td>\n      <td>0</td>\n    </tr>\n    <tr>\n      <th>3937</th>\n      <td>0</td>\n      <td>0</td>\n      <td>0</td>\n      <td>1</td>\n      <td>0</td>\n      <td>0</td>\n      <td>0</td>\n      <td>0</td>\n      <td>0</td>\n    </tr>\n    <tr>\n      <th>3938</th>\n      <td>0</td>\n      <td>0</td>\n      <td>0</td>\n      <td>1</td>\n      <td>0</td>\n      <td>0</td>\n      <td>0</td>\n      <td>0</td>\n      <td>0</td>\n    </tr>\n    <tr>\n      <th>3939</th>\n      <td>0</td>\n      <td>0</td>\n      <td>0</td>\n      <td>1</td>\n      <td>0</td>\n      <td>0</td>\n      <td>0</td>\n      <td>0</td>\n      <td>0</td>\n    </tr>\n  </tbody>\n</table>\n<p>3940 rows × 9 columns</p>\n</div>"
     },
     "metadata": {},
     "execution_count": 20
    }
   ],
   "source": [
    "pd.get_dummies(horse_dim['sex'])"
   ]
  },
  {
   "cell_type": "code",
   "execution_count": 21,
   "metadata": {},
   "outputs": [
    {
     "output_type": "execute_result",
     "data": {
      "text/plain": "               age\ncount  1153.000000\nmean      4.932350\nstd       1.408285\nmin       2.000000\n25%       4.000000\n50%       5.000000\n75%       6.000000\nmax      10.000000",
      "text/html": "<div>\n<style scoped>\n    .dataframe tbody tr th:only-of-type {\n        vertical-align: middle;\n    }\n\n    .dataframe tbody tr th {\n        vertical-align: top;\n    }\n\n    .dataframe thead th {\n        text-align: right;\n    }\n</style>\n<table border=\"1\" class=\"dataframe\">\n  <thead>\n    <tr style=\"text-align: right;\">\n      <th></th>\n      <th>age</th>\n    </tr>\n  </thead>\n  <tbody>\n    <tr>\n      <th>count</th>\n      <td>1153.000000</td>\n    </tr>\n    <tr>\n      <th>mean</th>\n      <td>4.932350</td>\n    </tr>\n    <tr>\n      <th>std</th>\n      <td>1.408285</td>\n    </tr>\n    <tr>\n      <th>min</th>\n      <td>2.000000</td>\n    </tr>\n    <tr>\n      <th>25%</th>\n      <td>4.000000</td>\n    </tr>\n    <tr>\n      <th>50%</th>\n      <td>5.000000</td>\n    </tr>\n    <tr>\n      <th>75%</th>\n      <td>6.000000</td>\n    </tr>\n    <tr>\n      <th>max</th>\n      <td>10.000000</td>\n    </tr>\n  </tbody>\n</table>\n</div>"
     },
     "metadata": {},
     "execution_count": 21
    }
   ],
   "source": [
    "horse_dim.describe()"
   ]
  },
  {
   "cell_type": "markdown",
   "metadata": {},
   "source": [
    "## Create dataset for prediction"
   ]
  },
  {
   "cell_type": "code",
   "execution_count": 22,
   "metadata": {},
   "outputs": [],
   "source": [
    "predmatrix = pd.merge(df, win\n",
    "    , left_on = ['date','venue','course','raceno']\n",
    "    , right_on = ['date','venue','course','raceno'])"
   ]
  },
  {
   "cell_type": "markdown",
   "metadata": {},
   "source": [
    "## Dynamic data frame"
   ]
  },
  {
   "cell_type": "code",
   "execution_count": 23,
   "metadata": {},
   "outputs": [
    {
     "output_type": "execute_result",
     "data": {
      "text/plain": "137"
     },
     "metadata": {},
     "execution_count": 23
    }
   ],
   "source": [
    "len(predmatrix['date'].unique())"
   ]
  },
  {
   "cell_type": "code",
   "execution_count": 24,
   "metadata": {},
   "outputs": [],
   "source": [
    "\n",
    "#jockey trainer to dictionaries\n",
    "# jockeys = results['jockey'].unique()\n",
    "# jockey_dict = {jockey: number for number, jockey in enumerate(set(jockeys))}\n",
    "# trainers = results['trainer'].unique()\n",
    "# trainer_dict = {trainer: number for number, trainer in enumerate(set(trainers))}\n",
    "\n",
    "results_1 = results.copy()\n",
    "\n",
    "# results_1['jockey'] = results_1['jockey'].apply(lambda x: str(jockey_dict[x]))\n",
    "# results_1['trainer'] = results_1['trainer'].apply(lambda x: str(trainer_dict[x]))\n",
    "\n",
    "# results_1['combination'] = results_1[['horse_code', 'jockey','trainer']].apply(lambda x: '_'.join(x), axis=1)\n",
    "results_1 = results_1[results_1['plc'].notna()][results_1[results_1['plc'].notna()]['plc'].apply(lambda x: x.isnumeric())]\n",
    "results_1['plc'] = results_1['plc'].apply(lambda x: int(x)) # ranking thing\n",
    "#appearance\n",
    "results_1['appear_cum']= results_1.groupby('horse_code').cumcount()\n",
    "\n",
    "results_1['win'] = results_1['plc'].apply(lambda x: 1 if x==1 else 0)\n",
    "results_1['top3'] = results_1['plc'].apply(lambda x: 1 if x<=3 else 0)\n",
    "results_1['win_cum']= results_1.groupby('horse_code')['win'].cumsum()-1\n",
    "results_1['top3_cum']= results_1.groupby('horse_code')['top3'].cumsum()-1\n",
    "#count win so far\n",
    "# results_1['win_cum'] = 0\n",
    "# results_1['top3_cum'] = 0\n",
    "# winning_count = {}\n",
    "# top3_count = {}\n",
    "# for index, row in results_1.iterrows():\n",
    "#     if winning_count.get(row['horse_code']):\n",
    "#         results_1['win_cum'].loc[index] = winning_count[row['horse_code']]\n",
    "#         if row['plc'] == 1:\n",
    "#             winning_count[row['horse_code']] += 1\n",
    "#     else:\n",
    "#         if row['plc'] == 1:\n",
    "#             winning_count[row['horse_code']] = 1\n",
    "            \n",
    "            \n",
    "# for index, row in results_1.iterrows():\n",
    "#     if top3_count.get(row['horse_code']):\n",
    "#         results_1['top3_cum'].loc[index] = top3_count[row['horse_code']]\n",
    "#         if row['plc'] <= 3:\n",
    "#             top3_count[row['horse_code']] += 1\n",
    "#     else:\n",
    "#         if row['plc'] <=3:\n",
    "#             top3_count[row['horse_code']] = 1\n",
    "\n",
    "# #get info from horse info\n",
    "# info = horse_info.copy().set_index('horse_code')\n",
    "# def get_info(x):\n",
    "#     try:\n",
    "#         country = info.loc[x]['country']\n",
    "#     except:\n",
    "#         country = 'NA'\n",
    "#     try:\n",
    "#         colour = info.loc[x]['colour']\n",
    "#     except:\n",
    "#         colour = 'NA'\n",
    "#     try:\n",
    "#         sex = info.loc[x]['sex']\n",
    "#     except:\n",
    "#         sex = 'NA'\n",
    "#     try:\n",
    "#         age = info.loc[x]['age']\n",
    "#     except:\n",
    "#         age = 'NA'        \n",
    "#     return(country,colour,sex,age)\n",
    "# results_1['country'] = results_1['horse_code'].apply(lambda x: get_info(x)[0])\n",
    "# results_1['colour'] = results_1['horse_code'].apply(lambda x: get_info(x)[1])\n",
    "# results_1['sex'] = results_1['horse_code'].apply(lambda x: get_info(x)[2])\n",
    "# results_1['age'] = results_1['horse_code'].apply(lambda x: get_info(x)[3])\n",
    "\n",
    "\n",
    "\n",
    ""
   ]
  },
  {
   "cell_type": "code",
   "execution_count": 25,
   "metadata": {},
   "outputs": [
    {
     "output_type": "execute_result",
     "data": {
      "text/plain": "       row  plc  horseno                   horse      jockey   trainer  \\\n0        0    1     10.0     NATURAL EIGHT(S243)      C Y Ho  C Fownes   \n1        0    1      7.0     SOLAR HEI HEI(T242)   B Prebble  D J Hall   \n2        0    1      3.0      GRAN BOLIVAR(S165)    H N Wong  Y S Tsui   \n3        0    1     11.0   PEOPLE'S KNIGHT(T305)     G Mosse   J Moore   \n4        0    1      2.0          SIR JOHN(P344)   B Prebble    W Y So   \n...    ...  ...      ...                     ...         ...       ...   \n14114   13   14     11.0  DISCIPLES TWELVE(P018)    K Teetan  C Fownes   \n14115   13   14     10.0    SPEEDY LONGWAH(S242)      T H So  C S Shum   \n14116   13   14     12.0      MARVEL TRIBE(S142)      K C Ng   K W Lui   \n14117   13   14     13.0        LET US WIN(V381)  K K Chiong   J Moore   \n14118   13   14      5.0         CHIMBORAA(V411)     A Sanna   K W Lui   \n\n       actualwt  declarwt  draw     lbw   runningpos finishtime  winodds  \\\n0         119.0    1037.0   1.0       -        4 3 1    1.10.19      3.5   \n1         125.0    1077.0  11.0       -        9 8 1    1.09.06      2.3   \n2         121.0     950.0   9.0       -        1 1 1    1.09.64     32.0   \n3         120.0    1149.0   4.0       -        4 4 1    1.09.70      6.6   \n4         131.0    1158.0  10.0       -        1 1 1    0.56.90      6.8   \n...         ...       ...   ...     ...          ...        ...      ...   \n14114     119.0    1107.0   1.0  10-1/4     10 11 14    1.10.21     66.0   \n14115     124.0    1124.0  13.0      50  14 14 14 14    1.30.08     99.0   \n14116     110.0    1118.0   2.0  14-1/4       3 7 14    1.11.22     99.0   \n14117     108.0    1111.0   3.0      17   4 1 1 4 14    1.49.18     70.0   \n14118     120.0    1214.0   9.0  32-1/2  13 14 14 14    1.28.15     97.0   \n\n             date  raceno  class  distance             going  \\\n0      2015-06-03       1      5      1200      GOOD TO FIRM   \n1      2015-06-07       1      4      1200      GOOD TO FIRM   \n2      2015-06-10       1      4      1200      GOOD TO FIRM   \n3      2015-06-14       1      1      1200      GOOD TO FIRM   \n4      2015-06-17       1      5      1000      GOOD TO FIRM   \n...           ...     ...    ...       ...               ...   \n14114  2016-10-01      11      2      1200              GOOD   \n14115  2016-11-27      11      2      1400              GOOD   \n14116  2017-01-01      11      2      1200      GOOD TO FIRM   \n14117  2017-03-05      11      2      1800      GOOD TO FIRM   \n14118  2017-07-16      11      2      1400  GOOD TO YIELDING   \n\n                                                handicap             course  \\\n0                                  MOUNT BUTLER HANDICAP    TURF - A COURSE   \n1                                HKU FOUNDATION HANDICAP  TURF - A+3 COURSE   \n2                                        LAI ON HANDICAP    TURF - B COURSE   \n3                                          BREGUET PLATE  TURF - B+2 COURSE   \n4                                      WANG TAK HANDICAP    TURF - C COURSE   \n...                                                  ...                ...   \n14114                                   BEIJING HANDICAP  TURF - A+3 COURSE   \n14115                  CHEVALIER SENIOR HOUSING HANDICAP    TURF - C COURSE   \n14116                               TAI MO SHAN HANDICAP  TURF - B+2 COURSE   \n14117                                     TAIPA HANDICAP    TURF - C COURSE   \n14118  THE HONG KONG RACEHORSE OWNERS ASSOCIATION TRO...    TURF - C COURSE   \n\n         stake         venue horse_code  appear_cum  win  top3  win_cum  \\\n0       575000  Happy Valley       S243           0    1     1        0   \n1       760000       Sha Tin       T242           0    1     1        0   \n2       760000  Happy Valley       S165           0    1     1        0   \n3       800000       Sha Tin       T305           0    1     1        0   \n4       575000  Happy Valley       P344           0    1     1        0   \n...        ...           ...        ...         ...  ...   ...      ...   \n14114  1750000       Sha Tin       P018           8    0     0       -1   \n14115  1750000       Sha Tin       S242          13    0     0        3   \n14116  1750000       Sha Tin       S142           8    0     0       -1   \n14117  1750000       Sha Tin       V381           4    0     0       -1   \n14118  1750000       Sha Tin       V411           0    0     0       -1   \n\n       top3_cum  \n0             0  \n1             0  \n2             0  \n3             0  \n4             0  \n...         ...  \n14114         1  \n14115         6  \n14116        -1  \n14117        -1  \n14118        -1  \n\n[13810 rows x 28 columns]",
      "text/html": "<div>\n<style scoped>\n    .dataframe tbody tr th:only-of-type {\n        vertical-align: middle;\n    }\n\n    .dataframe tbody tr th {\n        vertical-align: top;\n    }\n\n    .dataframe thead th {\n        text-align: right;\n    }\n</style>\n<table border=\"1\" class=\"dataframe\">\n  <thead>\n    <tr style=\"text-align: right;\">\n      <th></th>\n      <th>row</th>\n      <th>plc</th>\n      <th>horseno</th>\n      <th>horse</th>\n      <th>jockey</th>\n      <th>trainer</th>\n      <th>actualwt</th>\n      <th>declarwt</th>\n      <th>draw</th>\n      <th>lbw</th>\n      <th>runningpos</th>\n      <th>finishtime</th>\n      <th>winodds</th>\n      <th>date</th>\n      <th>raceno</th>\n      <th>class</th>\n      <th>distance</th>\n      <th>going</th>\n      <th>handicap</th>\n      <th>course</th>\n      <th>stake</th>\n      <th>venue</th>\n      <th>horse_code</th>\n      <th>appear_cum</th>\n      <th>win</th>\n      <th>top3</th>\n      <th>win_cum</th>\n      <th>top3_cum</th>\n    </tr>\n  </thead>\n  <tbody>\n    <tr>\n      <th>0</th>\n      <td>0</td>\n      <td>1</td>\n      <td>10.0</td>\n      <td>NATURAL EIGHT(S243)</td>\n      <td>C Y Ho</td>\n      <td>C Fownes</td>\n      <td>119.0</td>\n      <td>1037.0</td>\n      <td>1.0</td>\n      <td>-</td>\n      <td>4 3 1</td>\n      <td>1.10.19</td>\n      <td>3.5</td>\n      <td>2015-06-03</td>\n      <td>1</td>\n      <td>5</td>\n      <td>1200</td>\n      <td>GOOD TO FIRM</td>\n      <td>MOUNT BUTLER HANDICAP</td>\n      <td>TURF - A COURSE</td>\n      <td>575000</td>\n      <td>Happy Valley</td>\n      <td>S243</td>\n      <td>0</td>\n      <td>1</td>\n      <td>1</td>\n      <td>0</td>\n      <td>0</td>\n    </tr>\n    <tr>\n      <th>1</th>\n      <td>0</td>\n      <td>1</td>\n      <td>7.0</td>\n      <td>SOLAR HEI HEI(T242)</td>\n      <td>B Prebble</td>\n      <td>D J Hall</td>\n      <td>125.0</td>\n      <td>1077.0</td>\n      <td>11.0</td>\n      <td>-</td>\n      <td>9 8 1</td>\n      <td>1.09.06</td>\n      <td>2.3</td>\n      <td>2015-06-07</td>\n      <td>1</td>\n      <td>4</td>\n      <td>1200</td>\n      <td>GOOD TO FIRM</td>\n      <td>HKU FOUNDATION HANDICAP</td>\n      <td>TURF - A+3 COURSE</td>\n      <td>760000</td>\n      <td>Sha Tin</td>\n      <td>T242</td>\n      <td>0</td>\n      <td>1</td>\n      <td>1</td>\n      <td>0</td>\n      <td>0</td>\n    </tr>\n    <tr>\n      <th>2</th>\n      <td>0</td>\n      <td>1</td>\n      <td>3.0</td>\n      <td>GRAN BOLIVAR(S165)</td>\n      <td>H N Wong</td>\n      <td>Y S Tsui</td>\n      <td>121.0</td>\n      <td>950.0</td>\n      <td>9.0</td>\n      <td>-</td>\n      <td>1 1 1</td>\n      <td>1.09.64</td>\n      <td>32.0</td>\n      <td>2015-06-10</td>\n      <td>1</td>\n      <td>4</td>\n      <td>1200</td>\n      <td>GOOD TO FIRM</td>\n      <td>LAI ON HANDICAP</td>\n      <td>TURF - B COURSE</td>\n      <td>760000</td>\n      <td>Happy Valley</td>\n      <td>S165</td>\n      <td>0</td>\n      <td>1</td>\n      <td>1</td>\n      <td>0</td>\n      <td>0</td>\n    </tr>\n    <tr>\n      <th>3</th>\n      <td>0</td>\n      <td>1</td>\n      <td>11.0</td>\n      <td>PEOPLE'S KNIGHT(T305)</td>\n      <td>G Mosse</td>\n      <td>J Moore</td>\n      <td>120.0</td>\n      <td>1149.0</td>\n      <td>4.0</td>\n      <td>-</td>\n      <td>4 4 1</td>\n      <td>1.09.70</td>\n      <td>6.6</td>\n      <td>2015-06-14</td>\n      <td>1</td>\n      <td>1</td>\n      <td>1200</td>\n      <td>GOOD TO FIRM</td>\n      <td>BREGUET PLATE</td>\n      <td>TURF - B+2 COURSE</td>\n      <td>800000</td>\n      <td>Sha Tin</td>\n      <td>T305</td>\n      <td>0</td>\n      <td>1</td>\n      <td>1</td>\n      <td>0</td>\n      <td>0</td>\n    </tr>\n    <tr>\n      <th>4</th>\n      <td>0</td>\n      <td>1</td>\n      <td>2.0</td>\n      <td>SIR JOHN(P344)</td>\n      <td>B Prebble</td>\n      <td>W Y So</td>\n      <td>131.0</td>\n      <td>1158.0</td>\n      <td>10.0</td>\n      <td>-</td>\n      <td>1 1 1</td>\n      <td>0.56.90</td>\n      <td>6.8</td>\n      <td>2015-06-17</td>\n      <td>1</td>\n      <td>5</td>\n      <td>1000</td>\n      <td>GOOD TO FIRM</td>\n      <td>WANG TAK HANDICAP</td>\n      <td>TURF - C COURSE</td>\n      <td>575000</td>\n      <td>Happy Valley</td>\n      <td>P344</td>\n      <td>0</td>\n      <td>1</td>\n      <td>1</td>\n      <td>0</td>\n      <td>0</td>\n    </tr>\n    <tr>\n      <th>...</th>\n      <td>...</td>\n      <td>...</td>\n      <td>...</td>\n      <td>...</td>\n      <td>...</td>\n      <td>...</td>\n      <td>...</td>\n      <td>...</td>\n      <td>...</td>\n      <td>...</td>\n      <td>...</td>\n      <td>...</td>\n      <td>...</td>\n      <td>...</td>\n      <td>...</td>\n      <td>...</td>\n      <td>...</td>\n      <td>...</td>\n      <td>...</td>\n      <td>...</td>\n      <td>...</td>\n      <td>...</td>\n      <td>...</td>\n      <td>...</td>\n      <td>...</td>\n      <td>...</td>\n      <td>...</td>\n      <td>...</td>\n    </tr>\n    <tr>\n      <th>14114</th>\n      <td>13</td>\n      <td>14</td>\n      <td>11.0</td>\n      <td>DISCIPLES TWELVE(P018)</td>\n      <td>K Teetan</td>\n      <td>C Fownes</td>\n      <td>119.0</td>\n      <td>1107.0</td>\n      <td>1.0</td>\n      <td>10-1/4</td>\n      <td>10 11 14</td>\n      <td>1.10.21</td>\n      <td>66.0</td>\n      <td>2016-10-01</td>\n      <td>11</td>\n      <td>2</td>\n      <td>1200</td>\n      <td>GOOD</td>\n      <td>BEIJING HANDICAP</td>\n      <td>TURF - A+3 COURSE</td>\n      <td>1750000</td>\n      <td>Sha Tin</td>\n      <td>P018</td>\n      <td>8</td>\n      <td>0</td>\n      <td>0</td>\n      <td>-1</td>\n      <td>1</td>\n    </tr>\n    <tr>\n      <th>14115</th>\n      <td>13</td>\n      <td>14</td>\n      <td>10.0</td>\n      <td>SPEEDY LONGWAH(S242)</td>\n      <td>T H So</td>\n      <td>C S Shum</td>\n      <td>124.0</td>\n      <td>1124.0</td>\n      <td>13.0</td>\n      <td>50</td>\n      <td>14 14 14 14</td>\n      <td>1.30.08</td>\n      <td>99.0</td>\n      <td>2016-11-27</td>\n      <td>11</td>\n      <td>2</td>\n      <td>1400</td>\n      <td>GOOD</td>\n      <td>CHEVALIER SENIOR HOUSING HANDICAP</td>\n      <td>TURF - C COURSE</td>\n      <td>1750000</td>\n      <td>Sha Tin</td>\n      <td>S242</td>\n      <td>13</td>\n      <td>0</td>\n      <td>0</td>\n      <td>3</td>\n      <td>6</td>\n    </tr>\n    <tr>\n      <th>14116</th>\n      <td>13</td>\n      <td>14</td>\n      <td>12.0</td>\n      <td>MARVEL TRIBE(S142)</td>\n      <td>K C Ng</td>\n      <td>K W Lui</td>\n      <td>110.0</td>\n      <td>1118.0</td>\n      <td>2.0</td>\n      <td>14-1/4</td>\n      <td>3 7 14</td>\n      <td>1.11.22</td>\n      <td>99.0</td>\n      <td>2017-01-01</td>\n      <td>11</td>\n      <td>2</td>\n      <td>1200</td>\n      <td>GOOD TO FIRM</td>\n      <td>TAI MO SHAN HANDICAP</td>\n      <td>TURF - B+2 COURSE</td>\n      <td>1750000</td>\n      <td>Sha Tin</td>\n      <td>S142</td>\n      <td>8</td>\n      <td>0</td>\n      <td>0</td>\n      <td>-1</td>\n      <td>-1</td>\n    </tr>\n    <tr>\n      <th>14117</th>\n      <td>13</td>\n      <td>14</td>\n      <td>13.0</td>\n      <td>LET US WIN(V381)</td>\n      <td>K K Chiong</td>\n      <td>J Moore</td>\n      <td>108.0</td>\n      <td>1111.0</td>\n      <td>3.0</td>\n      <td>17</td>\n      <td>4 1 1 4 14</td>\n      <td>1.49.18</td>\n      <td>70.0</td>\n      <td>2017-03-05</td>\n      <td>11</td>\n      <td>2</td>\n      <td>1800</td>\n      <td>GOOD TO FIRM</td>\n      <td>TAIPA HANDICAP</td>\n      <td>TURF - C COURSE</td>\n      <td>1750000</td>\n      <td>Sha Tin</td>\n      <td>V381</td>\n      <td>4</td>\n      <td>0</td>\n      <td>0</td>\n      <td>-1</td>\n      <td>-1</td>\n    </tr>\n    <tr>\n      <th>14118</th>\n      <td>13</td>\n      <td>14</td>\n      <td>5.0</td>\n      <td>CHIMBORAA(V411)</td>\n      <td>A Sanna</td>\n      <td>K W Lui</td>\n      <td>120.0</td>\n      <td>1214.0</td>\n      <td>9.0</td>\n      <td>32-1/2</td>\n      <td>13 14 14 14</td>\n      <td>1.28.15</td>\n      <td>97.0</td>\n      <td>2017-07-16</td>\n      <td>11</td>\n      <td>2</td>\n      <td>1400</td>\n      <td>GOOD TO YIELDING</td>\n      <td>THE HONG KONG RACEHORSE OWNERS ASSOCIATION TRO...</td>\n      <td>TURF - C COURSE</td>\n      <td>1750000</td>\n      <td>Sha Tin</td>\n      <td>V411</td>\n      <td>0</td>\n      <td>0</td>\n      <td>0</td>\n      <td>-1</td>\n      <td>-1</td>\n    </tr>\n  </tbody>\n</table>\n<p>13810 rows × 28 columns</p>\n</div>"
     },
     "metadata": {},
     "execution_count": 25
    }
   ],
   "source": [
    "results_1"
   ]
  },
  {
   "cell_type": "code",
   "execution_count": 26,
   "metadata": {},
   "outputs": [],
   "source": [
    "results_2 = results_1[['date','horse_code','appear_cum','win_cum','top3_cum','class']]"
   ]
  },
  {
   "cell_type": "code",
   "execution_count": 27,
   "metadata": {},
   "outputs": [
    {
     "output_type": "stream",
     "name": "stderr",
     "text": "/Library/Frameworks/Python.framework/Versions/3.7/lib/python3.7/site-packages/ipykernel_launcher.py:1: SettingWithCopyWarning: \nA value is trying to be set on a copy of a slice from a DataFrame.\nTry using .loc[row_indexer,col_indexer] = value instead\n\nSee the caveats in the documentation: http://pandas.pydata.org/pandas-docs/stable/user_guide/indexing.html#returning-a-view-versus-a-copy\n  \"\"\"Entry point for launching an IPython kernel.\n/Library/Frameworks/Python.framework/Versions/3.7/lib/python3.7/site-packages/ipykernel_launcher.py:2: SettingWithCopyWarning: \nA value is trying to be set on a copy of a slice from a DataFrame.\nTry using .loc[row_indexer,col_indexer] = value instead\n\nSee the caveats in the documentation: http://pandas.pydata.org/pandas-docs/stable/user_guide/indexing.html#returning-a-view-versus-a-copy\n  \n/Library/Frameworks/Python.framework/Versions/3.7/lib/python3.7/site-packages/ipykernel_launcher.py:3: SettingWithCopyWarning: \nA value is trying to be set on a copy of a slice from a DataFrame.\nTry using .loc[row_indexer,col_indexer] = value instead\n\nSee the caveats in the documentation: http://pandas.pydata.org/pandas-docs/stable/user_guide/indexing.html#returning-a-view-versus-a-copy\n  This is separate from the ipykernel package so we can avoid doing imports until\n"
    }
   ],
   "source": [
    "results_2['class_change'] = results_2.groupby('horse_code')['class'].apply(pd.Series.diff)\n",
    "results_2['win_rate'] = results_2['win_cum']/results_2['appear_cum'] \n",
    "results_2['top3_rate'] = results_2['top3_cum']/results_2['appear_cum'] "
   ]
  },
  {
   "cell_type": "code",
   "execution_count": null,
   "metadata": {},
   "outputs": [],
   "source": []
  },
  {
   "cell_type": "code",
   "execution_count": 28,
   "metadata": {},
   "outputs": [
    {
     "output_type": "stream",
     "name": "stderr",
     "text": "/Library/Frameworks/Python.framework/Versions/3.7/lib/python3.7/site-packages/ipykernel_launcher.py:1: SettingWithCopyWarning: \nA value is trying to be set on a copy of a slice from a DataFrame.\nTry using .loc[row_indexer,col_indexer] = value instead\n\nSee the caveats in the documentation: http://pandas.pydata.org/pandas-docs/stable/user_guide/indexing.html#returning-a-view-versus-a-copy\n  \"\"\"Entry point for launching an IPython kernel.\n/Library/Frameworks/Python.framework/Versions/3.7/lib/python3.7/site-packages/ipykernel_launcher.py:2: SettingWithCopyWarning: \nA value is trying to be set on a copy of a slice from a DataFrame.\nTry using .loc[row_indexer,col_indexer] = value instead\n\nSee the caveats in the documentation: http://pandas.pydata.org/pandas-docs/stable/user_guide/indexing.html#returning-a-view-versus-a-copy\n  \n"
    }
   ],
   "source": [
    "results_2['win_rate_pct_change'] = results_2.groupby('horse_code')['win_rate'].apply(pd.Series.pct_change)\n",
    "results_2['top3_pct_change'] = results_2.groupby('horse_code')['top3_rate'].apply(pd.Series.pct_change)"
   ]
  },
  {
   "cell_type": "code",
   "execution_count": 29,
   "metadata": {},
   "outputs": [],
   "source": [
    "horse_dynamic = results_2.copy()\n",
    "\n",
    "horse_dynamic = horse_dynamic.fillna(0)\n",
    "\n",
    "nohorse = pd.DataFrame([[date,'N/A',0,0,0,0,0,0,0,0,0] for date in horse_dynamic['date'].unique()],columns = ['date', 'horse_code', \n",
    "                                                                                                            'appear_cum', 'win_cum',\n",
    "                                                                                                            'top3_cum', 'class',\n",
    "                                                                                                            'class_change', 'win_rate', \n",
    "                                                                                                            'top3_rate', 'win_rate_pct_change',\n",
    "                                                                                                            'top3_pct_change'])\n",
    "\n",
    "horse_dynamic = pd.concat([horse_dynamic,nohorse])\n",
    "\n",
    ""
   ]
  },
  {
   "cell_type": "code",
   "execution_count": 31,
   "metadata": {},
   "outputs": [
    {
     "output_type": "execute_result",
     "data": {
      "text/plain": "           date horse_code  appear_cum  win_cum  top3_cum  class  \\\n0    2015-06-03       S243           0        0         0      5   \n1    2015-06-07       T242           0        0         0      4   \n2    2015-06-10       S165           0        0         0      4   \n3    2015-06-14       T305           0        0         0      1   \n4    2015-06-17       P344           0        0         0      5   \n..          ...        ...         ...      ...       ...    ...   \n132  2015-09-23        N/A           0        0         0      0   \n133  2016-11-20        N/A           0        0         0      0   \n134  2017-06-18        N/A           0        0         0      0   \n135  2016-05-14        N/A           0        0         0      0   \n136  2017-02-19        N/A           0        0         0      0   \n\n     class_change  win_rate  top3_rate  win_rate_pct_change  top3_pct_change  \n0             0.0       0.0        0.0                  0.0              0.0  \n1             0.0       0.0        0.0                  0.0              0.0  \n2             0.0       0.0        0.0                  0.0              0.0  \n3             0.0       0.0        0.0                  0.0              0.0  \n4             0.0       0.0        0.0                  0.0              0.0  \n..            ...       ...        ...                  ...              ...  \n132           0.0       0.0        0.0                  0.0              0.0  \n133           0.0       0.0        0.0                  0.0              0.0  \n134           0.0       0.0        0.0                  0.0              0.0  \n135           0.0       0.0        0.0                  0.0              0.0  \n136           0.0       0.0        0.0                  0.0              0.0  \n\n[13947 rows x 11 columns]",
      "text/html": "<div>\n<style scoped>\n    .dataframe tbody tr th:only-of-type {\n        vertical-align: middle;\n    }\n\n    .dataframe tbody tr th {\n        vertical-align: top;\n    }\n\n    .dataframe thead th {\n        text-align: right;\n    }\n</style>\n<table border=\"1\" class=\"dataframe\">\n  <thead>\n    <tr style=\"text-align: right;\">\n      <th></th>\n      <th>date</th>\n      <th>horse_code</th>\n      <th>appear_cum</th>\n      <th>win_cum</th>\n      <th>top3_cum</th>\n      <th>class</th>\n      <th>class_change</th>\n      <th>win_rate</th>\n      <th>top3_rate</th>\n      <th>win_rate_pct_change</th>\n      <th>top3_pct_change</th>\n    </tr>\n  </thead>\n  <tbody>\n    <tr>\n      <th>0</th>\n      <td>2015-06-03</td>\n      <td>S243</td>\n      <td>0</td>\n      <td>0</td>\n      <td>0</td>\n      <td>5</td>\n      <td>0.0</td>\n      <td>0.0</td>\n      <td>0.0</td>\n      <td>0.0</td>\n      <td>0.0</td>\n    </tr>\n    <tr>\n      <th>1</th>\n      <td>2015-06-07</td>\n      <td>T242</td>\n      <td>0</td>\n      <td>0</td>\n      <td>0</td>\n      <td>4</td>\n      <td>0.0</td>\n      <td>0.0</td>\n      <td>0.0</td>\n      <td>0.0</td>\n      <td>0.0</td>\n    </tr>\n    <tr>\n      <th>2</th>\n      <td>2015-06-10</td>\n      <td>S165</td>\n      <td>0</td>\n      <td>0</td>\n      <td>0</td>\n      <td>4</td>\n      <td>0.0</td>\n      <td>0.0</td>\n      <td>0.0</td>\n      <td>0.0</td>\n      <td>0.0</td>\n    </tr>\n    <tr>\n      <th>3</th>\n      <td>2015-06-14</td>\n      <td>T305</td>\n      <td>0</td>\n      <td>0</td>\n      <td>0</td>\n      <td>1</td>\n      <td>0.0</td>\n      <td>0.0</td>\n      <td>0.0</td>\n      <td>0.0</td>\n      <td>0.0</td>\n    </tr>\n    <tr>\n      <th>4</th>\n      <td>2015-06-17</td>\n      <td>P344</td>\n      <td>0</td>\n      <td>0</td>\n      <td>0</td>\n      <td>5</td>\n      <td>0.0</td>\n      <td>0.0</td>\n      <td>0.0</td>\n      <td>0.0</td>\n      <td>0.0</td>\n    </tr>\n    <tr>\n      <th>...</th>\n      <td>...</td>\n      <td>...</td>\n      <td>...</td>\n      <td>...</td>\n      <td>...</td>\n      <td>...</td>\n      <td>...</td>\n      <td>...</td>\n      <td>...</td>\n      <td>...</td>\n      <td>...</td>\n    </tr>\n    <tr>\n      <th>132</th>\n      <td>2015-09-23</td>\n      <td>N/A</td>\n      <td>0</td>\n      <td>0</td>\n      <td>0</td>\n      <td>0</td>\n      <td>0.0</td>\n      <td>0.0</td>\n      <td>0.0</td>\n      <td>0.0</td>\n      <td>0.0</td>\n    </tr>\n    <tr>\n      <th>133</th>\n      <td>2016-11-20</td>\n      <td>N/A</td>\n      <td>0</td>\n      <td>0</td>\n      <td>0</td>\n      <td>0</td>\n      <td>0.0</td>\n      <td>0.0</td>\n      <td>0.0</td>\n      <td>0.0</td>\n      <td>0.0</td>\n    </tr>\n    <tr>\n      <th>134</th>\n      <td>2017-06-18</td>\n      <td>N/A</td>\n      <td>0</td>\n      <td>0</td>\n      <td>0</td>\n      <td>0</td>\n      <td>0.0</td>\n      <td>0.0</td>\n      <td>0.0</td>\n      <td>0.0</td>\n      <td>0.0</td>\n    </tr>\n    <tr>\n      <th>135</th>\n      <td>2016-05-14</td>\n      <td>N/A</td>\n      <td>0</td>\n      <td>0</td>\n      <td>0</td>\n      <td>0</td>\n      <td>0.0</td>\n      <td>0.0</td>\n      <td>0.0</td>\n      <td>0.0</td>\n      <td>0.0</td>\n    </tr>\n    <tr>\n      <th>136</th>\n      <td>2017-02-19</td>\n      <td>N/A</td>\n      <td>0</td>\n      <td>0</td>\n      <td>0</td>\n      <td>0</td>\n      <td>0.0</td>\n      <td>0.0</td>\n      <td>0.0</td>\n      <td>0.0</td>\n      <td>0.0</td>\n    </tr>\n  </tbody>\n</table>\n<p>13947 rows × 11 columns</p>\n</div>"
     },
     "metadata": {},
     "execution_count": 31
    }
   ],
   "source": [
    "horse_dynamic.to_csv('horse_dynamic_dim.csv')\n",
    "horse_dynamic"
   ]
  },
  {
   "cell_type": "code",
   "execution_count": null,
   "metadata": {},
   "outputs": [],
   "source": []
  },
  {
   "cell_type": "code",
   "execution_count": null,
   "metadata": {},
   "outputs": [],
   "source": []
  }
 ],
 "metadata": {
  "file_extension": ".py",
  "kernelspec": {
   "display_name": "Python 3",
   "language": "python",
   "name": "python3"
  },
  "language_info": {
   "codemirror_mode": {
    "name": "ipython",
    "version": 3
   },
   "file_extension": ".py",
   "mimetype": "text/x-python",
   "name": "python",
   "nbconvert_exporter": "python",
   "pygments_lexer": "ipython3",
   "version": "3.7.4-final"
  },
  "mimetype": "text/x-python",
  "name": "python",
  "npconvert_exporter": "python",
  "pygments_lexer": "ipython3",
  "version": 3
 },
 "nbformat": 4,
 "nbformat_minor": 2
}