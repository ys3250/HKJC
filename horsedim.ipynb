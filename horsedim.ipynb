{
 "cells": [
  {
   "cell_type": "code",
   "execution_count": 24,
   "metadata": {},
   "outputs": [],
   "source": [
    "import pandas as pd\n",
    "import numpy as np\n",
    "import re\n",
    "from matplotlib import pyplot as plt\n",
    "\n",
    "import matplotlib.pyplot as plt\n",
    "\n",
    "pd.set_option('max.columns', None)"
   ]
  },
  {
   "cell_type": "markdown",
   "metadata": {},
   "source": [
    "# Import Data"
   ]
  },
  {
   "cell_type": "markdown",
   "metadata": {},
   "source": [
    "## Import results file"
   ]
  },
  {
   "cell_type": "code",
   "execution_count": 25,
   "metadata": {},
   "outputs": [
    {
     "output_type": "execute_result",
     "data": {
      "text/plain": "   row plc  horseno                  horse     jockey   trainer  actualwt  \\\n0    0   1     10.0    NATURAL EIGHT(S243)     C Y Ho  C Fownes     119.0   \n1    0   1      7.0    SOLAR HEI HEI(T242)  B Prebble  D J Hall     125.0   \n2    0   1      3.0     GRAN BOLIVAR(S165)   H N Wong  Y S Tsui     121.0   \n3    0   1     11.0  PEOPLE'S KNIGHT(T305)    G Mosse   J Moore     120.0   \n4    0   1      2.0         SIR JOHN(P344)  B Prebble    W Y So     131.0   \n\n   declarwt  draw lbw runningpos finishtime  winodds        date  raceno  \\\n0    1037.0   1.0   -      4 3 1    1.10.19      3.5  2015-06-03       1   \n1    1077.0  11.0   -      9 8 1    1.09.06      2.3  2015-06-07       1   \n2     950.0   9.0   -      1 1 1    1.09.64     32.0  2015-06-10       1   \n3    1149.0   4.0   -      4 4 1    1.09.70      6.6  2015-06-14       1   \n4    1158.0  10.0   -      1 1 1    0.56.90      6.8  2015-06-17       1   \n\n   class  distance         going                 handicap             course  \\\n0      5      1200  GOOD TO FIRM    MOUNT BUTLER HANDICAP    TURF - A COURSE   \n1      4      1200  GOOD TO FIRM  HKU FOUNDATION HANDICAP  TURF - A+3 COURSE   \n2      4      1200  GOOD TO FIRM          LAI ON HANDICAP    TURF - B COURSE   \n3      1      1200  GOOD TO FIRM            BREGUET PLATE  TURF - B+2 COURSE   \n4      5      1000  GOOD TO FIRM        WANG TAK HANDICAP    TURF - C COURSE   \n\n    stake         venue  \n0  575000  Happy Valley  \n1  760000       Sha Tin  \n2  760000  Happy Valley  \n3  800000       Sha Tin  \n4  575000  Happy Valley  ",
      "text/html": "<div>\n<style scoped>\n    .dataframe tbody tr th:only-of-type {\n        vertical-align: middle;\n    }\n\n    .dataframe tbody tr th {\n        vertical-align: top;\n    }\n\n    .dataframe thead th {\n        text-align: right;\n    }\n</style>\n<table border=\"1\" class=\"dataframe\">\n  <thead>\n    <tr style=\"text-align: right;\">\n      <th></th>\n      <th>row</th>\n      <th>plc</th>\n      <th>horseno</th>\n      <th>horse</th>\n      <th>jockey</th>\n      <th>trainer</th>\n      <th>actualwt</th>\n      <th>declarwt</th>\n      <th>draw</th>\n      <th>lbw</th>\n      <th>runningpos</th>\n      <th>finishtime</th>\n      <th>winodds</th>\n      <th>date</th>\n      <th>raceno</th>\n      <th>class</th>\n      <th>distance</th>\n      <th>going</th>\n      <th>handicap</th>\n      <th>course</th>\n      <th>stake</th>\n      <th>venue</th>\n    </tr>\n  </thead>\n  <tbody>\n    <tr>\n      <th>0</th>\n      <td>0</td>\n      <td>1</td>\n      <td>10.0</td>\n      <td>NATURAL EIGHT(S243)</td>\n      <td>C Y Ho</td>\n      <td>C Fownes</td>\n      <td>119.0</td>\n      <td>1037.0</td>\n      <td>1.0</td>\n      <td>-</td>\n      <td>4 3 1</td>\n      <td>1.10.19</td>\n      <td>3.5</td>\n      <td>2015-06-03</td>\n      <td>1</td>\n      <td>5</td>\n      <td>1200</td>\n      <td>GOOD TO FIRM</td>\n      <td>MOUNT BUTLER HANDICAP</td>\n      <td>TURF - A COURSE</td>\n      <td>575000</td>\n      <td>Happy Valley</td>\n    </tr>\n    <tr>\n      <th>1</th>\n      <td>0</td>\n      <td>1</td>\n      <td>7.0</td>\n      <td>SOLAR HEI HEI(T242)</td>\n      <td>B Prebble</td>\n      <td>D J Hall</td>\n      <td>125.0</td>\n      <td>1077.0</td>\n      <td>11.0</td>\n      <td>-</td>\n      <td>9 8 1</td>\n      <td>1.09.06</td>\n      <td>2.3</td>\n      <td>2015-06-07</td>\n      <td>1</td>\n      <td>4</td>\n      <td>1200</td>\n      <td>GOOD TO FIRM</td>\n      <td>HKU FOUNDATION HANDICAP</td>\n      <td>TURF - A+3 COURSE</td>\n      <td>760000</td>\n      <td>Sha Tin</td>\n    </tr>\n    <tr>\n      <th>2</th>\n      <td>0</td>\n      <td>1</td>\n      <td>3.0</td>\n      <td>GRAN BOLIVAR(S165)</td>\n      <td>H N Wong</td>\n      <td>Y S Tsui</td>\n      <td>121.0</td>\n      <td>950.0</td>\n      <td>9.0</td>\n      <td>-</td>\n      <td>1 1 1</td>\n      <td>1.09.64</td>\n      <td>32.0</td>\n      <td>2015-06-10</td>\n      <td>1</td>\n      <td>4</td>\n      <td>1200</td>\n      <td>GOOD TO FIRM</td>\n      <td>LAI ON HANDICAP</td>\n      <td>TURF - B COURSE</td>\n      <td>760000</td>\n      <td>Happy Valley</td>\n    </tr>\n    <tr>\n      <th>3</th>\n      <td>0</td>\n      <td>1</td>\n      <td>11.0</td>\n      <td>PEOPLE'S KNIGHT(T305)</td>\n      <td>G Mosse</td>\n      <td>J Moore</td>\n      <td>120.0</td>\n      <td>1149.0</td>\n      <td>4.0</td>\n      <td>-</td>\n      <td>4 4 1</td>\n      <td>1.09.70</td>\n      <td>6.6</td>\n      <td>2015-06-14</td>\n      <td>1</td>\n      <td>1</td>\n      <td>1200</td>\n      <td>GOOD TO FIRM</td>\n      <td>BREGUET PLATE</td>\n      <td>TURF - B+2 COURSE</td>\n      <td>800000</td>\n      <td>Sha Tin</td>\n    </tr>\n    <tr>\n      <th>4</th>\n      <td>0</td>\n      <td>1</td>\n      <td>2.0</td>\n      <td>SIR JOHN(P344)</td>\n      <td>B Prebble</td>\n      <td>W Y So</td>\n      <td>131.0</td>\n      <td>1158.0</td>\n      <td>10.0</td>\n      <td>-</td>\n      <td>1 1 1</td>\n      <td>0.56.90</td>\n      <td>6.8</td>\n      <td>2015-06-17</td>\n      <td>1</td>\n      <td>5</td>\n      <td>1000</td>\n      <td>GOOD TO FIRM</td>\n      <td>WANG TAK HANDICAP</td>\n      <td>TURF - C COURSE</td>\n      <td>575000</td>\n      <td>Happy Valley</td>\n    </tr>\n  </tbody>\n</table>\n</div>"
     },
     "metadata": {},
     "execution_count": 25
    }
   ],
   "source": [
    "results = pd.read_csv('results.csv', index_col = 0)\n",
    "\n",
    "results = results[['row', 'plc', 'horseno', 'horse', 'jockey', 'trainer', 'actualwt',\n",
    "       'declarwt', 'draw', 'lbw', 'runningpos', 'finishtime', 'winodds',\n",
    "       'date', 'raceno', 'class', 'distance', 'going', 'handicap', 'course',\n",
    "       'stake', 'venue']]\n",
    "\n",
    "results.head()"
   ]
  },
  {
   "cell_type": "code",
   "execution_count": null,
   "metadata": {},
   "outputs": [],
   "source": []
  },
  {
   "cell_type": "markdown",
   "metadata": {},
   "source": [
    "# Convert data into Date, Venue, Course, and Race No. level"
   ]
  },
  {
   "cell_type": "code",
   "execution_count": 26,
   "metadata": {},
   "outputs": [],
   "source": [
    "text = 'NATURAL EIGHT(S243)'\n",
    "\n",
    "pattern = re.compile(r'([\\w\\W]+)?([\\(])([A-Z0-9]+)([\\)])')\n",
    "\n",
    "def extract_horse_code(pattern, text):\n",
    "#     print(text)\n",
    "    match = re.match(pattern, text)\n",
    "    return match.group(3)"
   ]
  },
  {
   "cell_type": "code",
   "execution_count": 27,
   "metadata": {},
   "outputs": [
    {
     "output_type": "execute_result",
     "data": {
      "text/plain": "   row plc  horseno                  horse     jockey   trainer  actualwt  \\\n0    0   1     10.0    NATURAL EIGHT(S243)     C Y Ho  C Fownes     119.0   \n1    0   1      7.0    SOLAR HEI HEI(T242)  B Prebble  D J Hall     125.0   \n2    0   1      3.0     GRAN BOLIVAR(S165)   H N Wong  Y S Tsui     121.0   \n3    0   1     11.0  PEOPLE'S KNIGHT(T305)    G Mosse   J Moore     120.0   \n4    0   1      2.0         SIR JOHN(P344)  B Prebble    W Y So     131.0   \n\n   declarwt  draw lbw runningpos finishtime  winodds        date  raceno  \\\n0    1037.0   1.0   -      4 3 1    1.10.19      3.5  2015-06-03       1   \n1    1077.0  11.0   -      9 8 1    1.09.06      2.3  2015-06-07       1   \n2     950.0   9.0   -      1 1 1    1.09.64     32.0  2015-06-10       1   \n3    1149.0   4.0   -      4 4 1    1.09.70      6.6  2015-06-14       1   \n4    1158.0  10.0   -      1 1 1    0.56.90      6.8  2015-06-17       1   \n\n   class  distance         going                 handicap             course  \\\n0      5      1200  GOOD TO FIRM    MOUNT BUTLER HANDICAP    TURF - A COURSE   \n1      4      1200  GOOD TO FIRM  HKU FOUNDATION HANDICAP  TURF - A+3 COURSE   \n2      4      1200  GOOD TO FIRM          LAI ON HANDICAP    TURF - B COURSE   \n3      1      1200  GOOD TO FIRM            BREGUET PLATE  TURF - B+2 COURSE   \n4      5      1000  GOOD TO FIRM        WANG TAK HANDICAP    TURF - C COURSE   \n\n    stake         venue horse_code  \n0  575000  Happy Valley       S243  \n1  760000       Sha Tin       T242  \n2  760000  Happy Valley       S165  \n3  800000       Sha Tin       T305  \n4  575000  Happy Valley       P344  ",
      "text/html": "<div>\n<style scoped>\n    .dataframe tbody tr th:only-of-type {\n        vertical-align: middle;\n    }\n\n    .dataframe tbody tr th {\n        vertical-align: top;\n    }\n\n    .dataframe thead th {\n        text-align: right;\n    }\n</style>\n<table border=\"1\" class=\"dataframe\">\n  <thead>\n    <tr style=\"text-align: right;\">\n      <th></th>\n      <th>row</th>\n      <th>plc</th>\n      <th>horseno</th>\n      <th>horse</th>\n      <th>jockey</th>\n      <th>trainer</th>\n      <th>actualwt</th>\n      <th>declarwt</th>\n      <th>draw</th>\n      <th>lbw</th>\n      <th>runningpos</th>\n      <th>finishtime</th>\n      <th>winodds</th>\n      <th>date</th>\n      <th>raceno</th>\n      <th>class</th>\n      <th>distance</th>\n      <th>going</th>\n      <th>handicap</th>\n      <th>course</th>\n      <th>stake</th>\n      <th>venue</th>\n      <th>horse_code</th>\n    </tr>\n  </thead>\n  <tbody>\n    <tr>\n      <th>0</th>\n      <td>0</td>\n      <td>1</td>\n      <td>10.0</td>\n      <td>NATURAL EIGHT(S243)</td>\n      <td>C Y Ho</td>\n      <td>C Fownes</td>\n      <td>119.0</td>\n      <td>1037.0</td>\n      <td>1.0</td>\n      <td>-</td>\n      <td>4 3 1</td>\n      <td>1.10.19</td>\n      <td>3.5</td>\n      <td>2015-06-03</td>\n      <td>1</td>\n      <td>5</td>\n      <td>1200</td>\n      <td>GOOD TO FIRM</td>\n      <td>MOUNT BUTLER HANDICAP</td>\n      <td>TURF - A COURSE</td>\n      <td>575000</td>\n      <td>Happy Valley</td>\n      <td>S243</td>\n    </tr>\n    <tr>\n      <th>1</th>\n      <td>0</td>\n      <td>1</td>\n      <td>7.0</td>\n      <td>SOLAR HEI HEI(T242)</td>\n      <td>B Prebble</td>\n      <td>D J Hall</td>\n      <td>125.0</td>\n      <td>1077.0</td>\n      <td>11.0</td>\n      <td>-</td>\n      <td>9 8 1</td>\n      <td>1.09.06</td>\n      <td>2.3</td>\n      <td>2015-06-07</td>\n      <td>1</td>\n      <td>4</td>\n      <td>1200</td>\n      <td>GOOD TO FIRM</td>\n      <td>HKU FOUNDATION HANDICAP</td>\n      <td>TURF - A+3 COURSE</td>\n      <td>760000</td>\n      <td>Sha Tin</td>\n      <td>T242</td>\n    </tr>\n    <tr>\n      <th>2</th>\n      <td>0</td>\n      <td>1</td>\n      <td>3.0</td>\n      <td>GRAN BOLIVAR(S165)</td>\n      <td>H N Wong</td>\n      <td>Y S Tsui</td>\n      <td>121.0</td>\n      <td>950.0</td>\n      <td>9.0</td>\n      <td>-</td>\n      <td>1 1 1</td>\n      <td>1.09.64</td>\n      <td>32.0</td>\n      <td>2015-06-10</td>\n      <td>1</td>\n      <td>4</td>\n      <td>1200</td>\n      <td>GOOD TO FIRM</td>\n      <td>LAI ON HANDICAP</td>\n      <td>TURF - B COURSE</td>\n      <td>760000</td>\n      <td>Happy Valley</td>\n      <td>S165</td>\n    </tr>\n    <tr>\n      <th>3</th>\n      <td>0</td>\n      <td>1</td>\n      <td>11.0</td>\n      <td>PEOPLE'S KNIGHT(T305)</td>\n      <td>G Mosse</td>\n      <td>J Moore</td>\n      <td>120.0</td>\n      <td>1149.0</td>\n      <td>4.0</td>\n      <td>-</td>\n      <td>4 4 1</td>\n      <td>1.09.70</td>\n      <td>6.6</td>\n      <td>2015-06-14</td>\n      <td>1</td>\n      <td>1</td>\n      <td>1200</td>\n      <td>GOOD TO FIRM</td>\n      <td>BREGUET PLATE</td>\n      <td>TURF - B+2 COURSE</td>\n      <td>800000</td>\n      <td>Sha Tin</td>\n      <td>T305</td>\n    </tr>\n    <tr>\n      <th>4</th>\n      <td>0</td>\n      <td>1</td>\n      <td>2.0</td>\n      <td>SIR JOHN(P344)</td>\n      <td>B Prebble</td>\n      <td>W Y So</td>\n      <td>131.0</td>\n      <td>1158.0</td>\n      <td>10.0</td>\n      <td>-</td>\n      <td>1 1 1</td>\n      <td>0.56.90</td>\n      <td>6.8</td>\n      <td>2015-06-17</td>\n      <td>1</td>\n      <td>5</td>\n      <td>1000</td>\n      <td>GOOD TO FIRM</td>\n      <td>WANG TAK HANDICAP</td>\n      <td>TURF - C COURSE</td>\n      <td>575000</td>\n      <td>Happy Valley</td>\n      <td>P344</td>\n    </tr>\n  </tbody>\n</table>\n</div>"
     },
     "metadata": {},
     "execution_count": 27
    }
   ],
   "source": [
    "results['horse_code'] = results['horse'].apply(lambda x: extract_horse_code(pattern, x))\n",
    "results.head()"
   ]
  },
  {
   "cell_type": "code",
   "execution_count": 33,
   "metadata": {},
   "outputs": [],
   "source": [
    "df = pd.pivot_table(results,\n",
    "               index = ['date','venue','course','raceno'],\n",
    "               columns = ['draw'],\n",
    "               values = ['horse_code'],#,'trainer','jockey'],\n",
    "               aggfunc = max)\n",
    "\n",
    "df.reset_index(inplace = True)"
   ]
  },
  {
   "cell_type": "code",
   "execution_count": 35,
   "metadata": {},
   "outputs": [],
   "source": [
    "df = df.droplevel(1, axis = 1)\n",
    "df.columns = ['date', 'venue', 'course', 'raceno', 'horse_1', 'horse_2', 'horse_3',\n",
    "      'horse_4', 'horse_5', 'horse_6', 'horse_7', 'horse_8', 'horse_9', 'horse_10',\n",
    "      'horse_11', 'horse_12', 'horse_13', 'horse_14']"
   ]
  },
  {
   "cell_type": "code",
   "execution_count": 37,
   "metadata": {},
   "outputs": [
    {
     "output_type": "execute_result",
     "data": {
      "text/plain": "            date    venue             course  raceno horse_1 horse_2 horse_3  \\\n8     2015-06-07  Sha Tin  ALL WEATHER TRACK       2    M017    N070    P316   \n10    2015-06-07  Sha Tin  ALL WEATHER TRACK       8    P169    M376    P181   \n11    2015-06-07  Sha Tin  TURF - A+3 COURSE       1    S397    P398    T177   \n12    2015-06-07  Sha Tin  TURF - A+3 COURSE       3    T134    P112    S098   \n13    2015-06-07  Sha Tin  TURF - A+3 COURSE       4    T014    S275    M339   \n...          ...      ...                ...     ...     ...     ...     ...   \n1106  2017-07-16  Sha Tin    TURF - C COURSE       4    T202    V157    V243   \n1107  2017-07-16  Sha Tin    TURF - C COURSE       5    S414    V039    V244   \n1109  2017-07-16  Sha Tin    TURF - C COURSE       7    S332    A096    A120   \n1111  2017-07-16  Sha Tin    TURF - C COURSE       9    A352    A139    P363   \n1113  2017-07-16  Sha Tin    TURF - C COURSE      11    S298    A098    V186   \n\n     horse_4 horse_5 horse_6 horse_7 horse_8 horse_9 horse_10 horse_11  \\\n8       P430    P075    T040    S046    S175    P280     M152     P084   \n10      S066    S388    N014    M021    S023    S306     P425     T115   \n11      P434    S450    P402    T175    N115    T025     T166     T242   \n12      L379    S372    S070    N386    P424    T018     T064     S433   \n13      S044    T093    T170    P111    S167    P038     M347     S415   \n...      ...     ...     ...     ...     ...     ...      ...      ...   \n1106    S106    V001    S138    A348    V207    T373     V171     A023   \n1107    P151    S147    S379    N248    V403    V263     T108     V213   \n1109    S312    V361    T376    T046    V321    T094     V381     A095   \n1111    V040    A286    A164    A248    A168    A249     T117     S362   \n1113    T371    S358    V214    V099    T375    V411     V372     A183   \n\n     horse_12 horse_13 horse_14  \n8        S369     S197     P073  \n10       S234     N379     P184  \n11       T019     S323     T132  \n12       T057     T045     S387  \n13       N309     P414     S221  \n...       ...      ...      ...  \n1106     V022     A005     P272  \n1107     T105     S388     S100  \n1109     A135     A109     V192  \n1111     A232     A163     V176  \n1113     T396     T242     A041  \n\n[400 rows x 18 columns]",
      "text/html": "<div>\n<style scoped>\n    .dataframe tbody tr th:only-of-type {\n        vertical-align: middle;\n    }\n\n    .dataframe tbody tr th {\n        vertical-align: top;\n    }\n\n    .dataframe thead th {\n        text-align: right;\n    }\n</style>\n<table border=\"1\" class=\"dataframe\">\n  <thead>\n    <tr style=\"text-align: right;\">\n      <th></th>\n      <th>date</th>\n      <th>venue</th>\n      <th>course</th>\n      <th>raceno</th>\n      <th>horse_1</th>\n      <th>horse_2</th>\n      <th>horse_3</th>\n      <th>horse_4</th>\n      <th>horse_5</th>\n      <th>horse_6</th>\n      <th>horse_7</th>\n      <th>horse_8</th>\n      <th>horse_9</th>\n      <th>horse_10</th>\n      <th>horse_11</th>\n      <th>horse_12</th>\n      <th>horse_13</th>\n      <th>horse_14</th>\n    </tr>\n  </thead>\n  <tbody>\n    <tr>\n      <th>8</th>\n      <td>2015-06-07</td>\n      <td>Sha Tin</td>\n      <td>ALL WEATHER TRACK</td>\n      <td>2</td>\n      <td>M017</td>\n      <td>N070</td>\n      <td>P316</td>\n      <td>P430</td>\n      <td>P075</td>\n      <td>T040</td>\n      <td>S046</td>\n      <td>S175</td>\n      <td>P280</td>\n      <td>M152</td>\n      <td>P084</td>\n      <td>S369</td>\n      <td>S197</td>\n      <td>P073</td>\n    </tr>\n    <tr>\n      <th>10</th>\n      <td>2015-06-07</td>\n      <td>Sha Tin</td>\n      <td>ALL WEATHER TRACK</td>\n      <td>8</td>\n      <td>P169</td>\n      <td>M376</td>\n      <td>P181</td>\n      <td>S066</td>\n      <td>S388</td>\n      <td>N014</td>\n      <td>M021</td>\n      <td>S023</td>\n      <td>S306</td>\n      <td>P425</td>\n      <td>T115</td>\n      <td>S234</td>\n      <td>N379</td>\n      <td>P184</td>\n    </tr>\n    <tr>\n      <th>11</th>\n      <td>2015-06-07</td>\n      <td>Sha Tin</td>\n      <td>TURF - A+3 COURSE</td>\n      <td>1</td>\n      <td>S397</td>\n      <td>P398</td>\n      <td>T177</td>\n      <td>P434</td>\n      <td>S450</td>\n      <td>P402</td>\n      <td>T175</td>\n      <td>N115</td>\n      <td>T025</td>\n      <td>T166</td>\n      <td>T242</td>\n      <td>T019</td>\n      <td>S323</td>\n      <td>T132</td>\n    </tr>\n    <tr>\n      <th>12</th>\n      <td>2015-06-07</td>\n      <td>Sha Tin</td>\n      <td>TURF - A+3 COURSE</td>\n      <td>3</td>\n      <td>T134</td>\n      <td>P112</td>\n      <td>S098</td>\n      <td>L379</td>\n      <td>S372</td>\n      <td>S070</td>\n      <td>N386</td>\n      <td>P424</td>\n      <td>T018</td>\n      <td>T064</td>\n      <td>S433</td>\n      <td>T057</td>\n      <td>T045</td>\n      <td>S387</td>\n    </tr>\n    <tr>\n      <th>13</th>\n      <td>2015-06-07</td>\n      <td>Sha Tin</td>\n      <td>TURF - A+3 COURSE</td>\n      <td>4</td>\n      <td>T014</td>\n      <td>S275</td>\n      <td>M339</td>\n      <td>S044</td>\n      <td>T093</td>\n      <td>T170</td>\n      <td>P111</td>\n      <td>S167</td>\n      <td>P038</td>\n      <td>M347</td>\n      <td>S415</td>\n      <td>N309</td>\n      <td>P414</td>\n      <td>S221</td>\n    </tr>\n    <tr>\n      <th>...</th>\n      <td>...</td>\n      <td>...</td>\n      <td>...</td>\n      <td>...</td>\n      <td>...</td>\n      <td>...</td>\n      <td>...</td>\n      <td>...</td>\n      <td>...</td>\n      <td>...</td>\n      <td>...</td>\n      <td>...</td>\n      <td>...</td>\n      <td>...</td>\n      <td>...</td>\n      <td>...</td>\n      <td>...</td>\n      <td>...</td>\n    </tr>\n    <tr>\n      <th>1106</th>\n      <td>2017-07-16</td>\n      <td>Sha Tin</td>\n      <td>TURF - C COURSE</td>\n      <td>4</td>\n      <td>T202</td>\n      <td>V157</td>\n      <td>V243</td>\n      <td>S106</td>\n      <td>V001</td>\n      <td>S138</td>\n      <td>A348</td>\n      <td>V207</td>\n      <td>T373</td>\n      <td>V171</td>\n      <td>A023</td>\n      <td>V022</td>\n      <td>A005</td>\n      <td>P272</td>\n    </tr>\n    <tr>\n      <th>1107</th>\n      <td>2017-07-16</td>\n      <td>Sha Tin</td>\n      <td>TURF - C COURSE</td>\n      <td>5</td>\n      <td>S414</td>\n      <td>V039</td>\n      <td>V244</td>\n      <td>P151</td>\n      <td>S147</td>\n      <td>S379</td>\n      <td>N248</td>\n      <td>V403</td>\n      <td>V263</td>\n      <td>T108</td>\n      <td>V213</td>\n      <td>T105</td>\n      <td>S388</td>\n      <td>S100</td>\n    </tr>\n    <tr>\n      <th>1109</th>\n      <td>2017-07-16</td>\n      <td>Sha Tin</td>\n      <td>TURF - C COURSE</td>\n      <td>7</td>\n      <td>S332</td>\n      <td>A096</td>\n      <td>A120</td>\n      <td>S312</td>\n      <td>V361</td>\n      <td>T376</td>\n      <td>T046</td>\n      <td>V321</td>\n      <td>T094</td>\n      <td>V381</td>\n      <td>A095</td>\n      <td>A135</td>\n      <td>A109</td>\n      <td>V192</td>\n    </tr>\n    <tr>\n      <th>1111</th>\n      <td>2017-07-16</td>\n      <td>Sha Tin</td>\n      <td>TURF - C COURSE</td>\n      <td>9</td>\n      <td>A352</td>\n      <td>A139</td>\n      <td>P363</td>\n      <td>V040</td>\n      <td>A286</td>\n      <td>A164</td>\n      <td>A248</td>\n      <td>A168</td>\n      <td>A249</td>\n      <td>T117</td>\n      <td>S362</td>\n      <td>A232</td>\n      <td>A163</td>\n      <td>V176</td>\n    </tr>\n    <tr>\n      <th>1113</th>\n      <td>2017-07-16</td>\n      <td>Sha Tin</td>\n      <td>TURF - C COURSE</td>\n      <td>11</td>\n      <td>S298</td>\n      <td>A098</td>\n      <td>V186</td>\n      <td>T371</td>\n      <td>S358</td>\n      <td>V214</td>\n      <td>V099</td>\n      <td>T375</td>\n      <td>V411</td>\n      <td>V372</td>\n      <td>A183</td>\n      <td>T396</td>\n      <td>T242</td>\n      <td>A041</td>\n    </tr>\n  </tbody>\n</table>\n<p>400 rows × 18 columns</p>\n</div>"
     },
     "metadata": {},
     "execution_count": 37
    }
   ],
   "source": [
    "df.dropna()"
   ]
  },
  {
   "cell_type": "code",
   "execution_count": 6,
   "metadata": {},
   "outputs": [
    {
     "output_type": "execute_result",
     "data": {
      "text/plain": "            date         venue           course  raceno  draw_winner\n0     2015-06-03  Happy Valley  TURF - A COURSE       1          1.0\n1     2015-06-03  Happy Valley  TURF - A COURSE       2          1.0\n2     2015-06-03  Happy Valley  TURF - A COURSE       3          1.0\n3     2015-06-03  Happy Valley  TURF - A COURSE       4          6.0\n4     2015-06-03  Happy Valley  TURF - A COURSE       5          7.0\n...          ...           ...              ...     ...          ...\n1105  2017-07-16       Sha Tin  TURF - C COURSE       7         11.0\n1106  2017-07-16       Sha Tin  TURF - C COURSE       8          1.0\n1107  2017-07-16       Sha Tin  TURF - C COURSE       9          7.0\n1108  2017-07-16       Sha Tin  TURF - C COURSE      10          8.0\n1109  2017-07-16       Sha Tin  TURF - C COURSE      11         13.0\n\n[1110 rows x 5 columns]",
      "text/html": "<div>\n<style scoped>\n    .dataframe tbody tr th:only-of-type {\n        vertical-align: middle;\n    }\n\n    .dataframe tbody tr th {\n        vertical-align: top;\n    }\n\n    .dataframe thead th {\n        text-align: right;\n    }\n</style>\n<table border=\"1\" class=\"dataframe\">\n  <thead>\n    <tr style=\"text-align: right;\">\n      <th></th>\n      <th>date</th>\n      <th>venue</th>\n      <th>course</th>\n      <th>raceno</th>\n      <th>draw_winner</th>\n    </tr>\n  </thead>\n  <tbody>\n    <tr>\n      <th>0</th>\n      <td>2015-06-03</td>\n      <td>Happy Valley</td>\n      <td>TURF - A COURSE</td>\n      <td>1</td>\n      <td>1.0</td>\n    </tr>\n    <tr>\n      <th>1</th>\n      <td>2015-06-03</td>\n      <td>Happy Valley</td>\n      <td>TURF - A COURSE</td>\n      <td>2</td>\n      <td>1.0</td>\n    </tr>\n    <tr>\n      <th>2</th>\n      <td>2015-06-03</td>\n      <td>Happy Valley</td>\n      <td>TURF - A COURSE</td>\n      <td>3</td>\n      <td>1.0</td>\n    </tr>\n    <tr>\n      <th>3</th>\n      <td>2015-06-03</td>\n      <td>Happy Valley</td>\n      <td>TURF - A COURSE</td>\n      <td>4</td>\n      <td>6.0</td>\n    </tr>\n    <tr>\n      <th>4</th>\n      <td>2015-06-03</td>\n      <td>Happy Valley</td>\n      <td>TURF - A COURSE</td>\n      <td>5</td>\n      <td>7.0</td>\n    </tr>\n    <tr>\n      <th>...</th>\n      <td>...</td>\n      <td>...</td>\n      <td>...</td>\n      <td>...</td>\n      <td>...</td>\n    </tr>\n    <tr>\n      <th>1105</th>\n      <td>2017-07-16</td>\n      <td>Sha Tin</td>\n      <td>TURF - C COURSE</td>\n      <td>7</td>\n      <td>11.0</td>\n    </tr>\n    <tr>\n      <th>1106</th>\n      <td>2017-07-16</td>\n      <td>Sha Tin</td>\n      <td>TURF - C COURSE</td>\n      <td>8</td>\n      <td>1.0</td>\n    </tr>\n    <tr>\n      <th>1107</th>\n      <td>2017-07-16</td>\n      <td>Sha Tin</td>\n      <td>TURF - C COURSE</td>\n      <td>9</td>\n      <td>7.0</td>\n    </tr>\n    <tr>\n      <th>1108</th>\n      <td>2017-07-16</td>\n      <td>Sha Tin</td>\n      <td>TURF - C COURSE</td>\n      <td>10</td>\n      <td>8.0</td>\n    </tr>\n    <tr>\n      <th>1109</th>\n      <td>2017-07-16</td>\n      <td>Sha Tin</td>\n      <td>TURF - C COURSE</td>\n      <td>11</td>\n      <td>13.0</td>\n    </tr>\n  </tbody>\n</table>\n<p>1110 rows × 5 columns</p>\n</div>"
     },
     "metadata": {},
     "execution_count": 6
    }
   ],
   "source": [
    "win = pd.pivot_table(results[results['plc'] == '1'],\n",
    "               index = ['date','venue','course','raceno'],\n",
    "               values = ['draw'])\n",
    "\n",
    "win.reset_index().rename(columns = {'draw':'draw_winner'})"
   ]
  },
  {
   "cell_type": "code",
   "execution_count": 7,
   "metadata": {},
   "outputs": [
    {
     "output_type": "execute_result",
     "data": {
      "text/plain": "       row  plc  horseno                   horse     jockey       trainer  \\\n1        0    1      7.0     SOLAR HEI HEI(T242)  B Prebble      D J Hall   \n29       0    1      4.0        EASY HEDGE(T409)  J Moreira        J Size   \n39       0    1      6.0        SPICY SIAM(N090)     C Y Ho  D E Ferraris   \n40       0    1      4.0     FISH N' CHIPS(T099)  M L Yeung         A Lee   \n48       0    1      7.0        OCEAN ROAR(N317)  M L Yeung         A Lee   \n...    ...  ...      ...                     ...        ...           ...   \n14038   13   14      3.0       HAPPY ROCKY(S147)  B Prebble         A Lee   \n14075   13   14      4.0          DYNAMISM(T188)    D Whyte  D E Ferraris   \n14083   13   14      3.0   RENAISSANCE ART(T197)   Z Purton      C Fownes   \n14105   13   14      8.0  NO MONEY NO TALK(S404)     C Y Ho      D J Hall   \n14109   13   14      5.0    FANTASTIC KAKA(P363)     T H So          L Ho   \n\n       actualwt  declarwt  draw     lbw      runningpos finishtime  winodds  \\\n1         125.0    1077.0  11.0       -           9 8 1    1.09.06      2.3   \n29        127.0    1111.0  11.0       -         2 3 4 1    1.23.43      1.4   \n39        122.0    1082.0   5.0       -     8 8 7 6 6 1    2.19.49     27.0   \n40        124.0    1097.0   1.0       -           8 5 1    0.56.88     15.0   \n48        125.0    1197.0   1.0       -           1 1 1    0.57.61      5.0   \n...         ...       ...   ...     ...             ...        ...      ...   \n14038     127.0    1091.0  14.0      12     14 14 14 14    1.36.85     76.0   \n14075     124.0    1142.0   7.0  14-3/4      12 12 8 14    1.39.33     62.0   \n14083     130.0    1105.0  11.0  11-3/4  12 14 14 13 14    1.48.90     22.0   \n14105     120.0    1138.0  13.0  20-1/2        1 1 2 14    1.25.23     99.0   \n14109     121.0    1112.0  10.0   9-1/4        2 1 2 14    1.35.92     16.0   \n\n             date  raceno  class  distance             going  \\\n1      2015-06-07       1      4      1200      GOOD TO FIRM   \n29     2015-12-06       1      4      1400              GOOD   \n39     2016-01-13       1      5      2200              GOOD   \n40     2016-01-17       1      4      1000  GOOD TO YIELDING   \n48     2016-02-24       1      4      1000              GOOD   \n...           ...     ...    ...       ...               ...   \n14038  2017-01-01       9      3      1600      GOOD TO FIRM   \n14075  2016-04-24      10      2      1600          YIELDING   \n14083  2016-10-23      10      2      1800              GOOD   \n14105  2016-01-01      11      3      1400              GOOD   \n14109  2016-03-28      11      2      1600              GOOD   \n\n                                      handicap             course    stake  \\\n1                      HKU FOUNDATION HANDICAP  TURF - A+3 COURSE   760000   \n29                             ASHLEY HANDICAP  TURF - C+3 COURSE   800000   \n39                         BOWRINGTON HANDICAP    TURF - B COURSE   600000   \n40                          CARPENTER HANDICAP  TURF - C+3 COURSE   800000   \n48                           TSUI MAN HANDICAP    TURF - C COURSE   800000   \n...                                        ...                ...      ...   \n14038                     LIN FA SHAN HANDICAP  TURF - B+2 COURSE  1235000   \n14075  AUDEMARS PIGUET JULES AUDEMARS HANDICAP    TURF - A COURSE  1650000   \n14083               BULGARI EXCELLENT HANDICAP    TURF - A COURSE  1750000   \n14105                     GRASSY HILL HANDICAP  TURF - B+2 COURSE  1165000   \n14109                         PRIMULA HANDICAP  TURF - A+3 COURSE  1650000   \n\n              venue horse_code  \n1           Sha Tin       T242  \n29          Sha Tin       T409  \n39     Happy Valley       N090  \n40          Sha Tin       T099  \n48     Happy Valley       N317  \n...             ...        ...  \n14038       Sha Tin       S147  \n14075       Sha Tin       T188  \n14083       Sha Tin       T197  \n14105       Sha Tin       S404  \n14109       Sha Tin       P363  \n\n[1209 rows x 23 columns]",
      "text/html": "<div>\n<style scoped>\n    .dataframe tbody tr th:only-of-type {\n        vertical-align: middle;\n    }\n\n    .dataframe tbody tr th {\n        vertical-align: top;\n    }\n\n    .dataframe thead th {\n        text-align: right;\n    }\n</style>\n<table border=\"1\" class=\"dataframe\">\n  <thead>\n    <tr style=\"text-align: right;\">\n      <th></th>\n      <th>row</th>\n      <th>plc</th>\n      <th>horseno</th>\n      <th>horse</th>\n      <th>jockey</th>\n      <th>trainer</th>\n      <th>actualwt</th>\n      <th>declarwt</th>\n      <th>draw</th>\n      <th>lbw</th>\n      <th>runningpos</th>\n      <th>finishtime</th>\n      <th>winodds</th>\n      <th>date</th>\n      <th>raceno</th>\n      <th>class</th>\n      <th>distance</th>\n      <th>going</th>\n      <th>handicap</th>\n      <th>course</th>\n      <th>stake</th>\n      <th>venue</th>\n      <th>horse_code</th>\n    </tr>\n  </thead>\n  <tbody>\n    <tr>\n      <th>1</th>\n      <td>0</td>\n      <td>1</td>\n      <td>7.0</td>\n      <td>SOLAR HEI HEI(T242)</td>\n      <td>B Prebble</td>\n      <td>D J Hall</td>\n      <td>125.0</td>\n      <td>1077.0</td>\n      <td>11.0</td>\n      <td>-</td>\n      <td>9 8 1</td>\n      <td>1.09.06</td>\n      <td>2.3</td>\n      <td>2015-06-07</td>\n      <td>1</td>\n      <td>4</td>\n      <td>1200</td>\n      <td>GOOD TO FIRM</td>\n      <td>HKU FOUNDATION HANDICAP</td>\n      <td>TURF - A+3 COURSE</td>\n      <td>760000</td>\n      <td>Sha Tin</td>\n      <td>T242</td>\n    </tr>\n    <tr>\n      <th>29</th>\n      <td>0</td>\n      <td>1</td>\n      <td>4.0</td>\n      <td>EASY HEDGE(T409)</td>\n      <td>J Moreira</td>\n      <td>J Size</td>\n      <td>127.0</td>\n      <td>1111.0</td>\n      <td>11.0</td>\n      <td>-</td>\n      <td>2 3 4 1</td>\n      <td>1.23.43</td>\n      <td>1.4</td>\n      <td>2015-12-06</td>\n      <td>1</td>\n      <td>4</td>\n      <td>1400</td>\n      <td>GOOD</td>\n      <td>ASHLEY HANDICAP</td>\n      <td>TURF - C+3 COURSE</td>\n      <td>800000</td>\n      <td>Sha Tin</td>\n      <td>T409</td>\n    </tr>\n    <tr>\n      <th>39</th>\n      <td>0</td>\n      <td>1</td>\n      <td>6.0</td>\n      <td>SPICY SIAM(N090)</td>\n      <td>C Y Ho</td>\n      <td>D E Ferraris</td>\n      <td>122.0</td>\n      <td>1082.0</td>\n      <td>5.0</td>\n      <td>-</td>\n      <td>8 8 7 6 6 1</td>\n      <td>2.19.49</td>\n      <td>27.0</td>\n      <td>2016-01-13</td>\n      <td>1</td>\n      <td>5</td>\n      <td>2200</td>\n      <td>GOOD</td>\n      <td>BOWRINGTON HANDICAP</td>\n      <td>TURF - B COURSE</td>\n      <td>600000</td>\n      <td>Happy Valley</td>\n      <td>N090</td>\n    </tr>\n    <tr>\n      <th>40</th>\n      <td>0</td>\n      <td>1</td>\n      <td>4.0</td>\n      <td>FISH N' CHIPS(T099)</td>\n      <td>M L Yeung</td>\n      <td>A Lee</td>\n      <td>124.0</td>\n      <td>1097.0</td>\n      <td>1.0</td>\n      <td>-</td>\n      <td>8 5 1</td>\n      <td>0.56.88</td>\n      <td>15.0</td>\n      <td>2016-01-17</td>\n      <td>1</td>\n      <td>4</td>\n      <td>1000</td>\n      <td>GOOD TO YIELDING</td>\n      <td>CARPENTER HANDICAP</td>\n      <td>TURF - C+3 COURSE</td>\n      <td>800000</td>\n      <td>Sha Tin</td>\n      <td>T099</td>\n    </tr>\n    <tr>\n      <th>48</th>\n      <td>0</td>\n      <td>1</td>\n      <td>7.0</td>\n      <td>OCEAN ROAR(N317)</td>\n      <td>M L Yeung</td>\n      <td>A Lee</td>\n      <td>125.0</td>\n      <td>1197.0</td>\n      <td>1.0</td>\n      <td>-</td>\n      <td>1 1 1</td>\n      <td>0.57.61</td>\n      <td>5.0</td>\n      <td>2016-02-24</td>\n      <td>1</td>\n      <td>4</td>\n      <td>1000</td>\n      <td>GOOD</td>\n      <td>TSUI MAN HANDICAP</td>\n      <td>TURF - C COURSE</td>\n      <td>800000</td>\n      <td>Happy Valley</td>\n      <td>N317</td>\n    </tr>\n    <tr>\n      <th>...</th>\n      <td>...</td>\n      <td>...</td>\n      <td>...</td>\n      <td>...</td>\n      <td>...</td>\n      <td>...</td>\n      <td>...</td>\n      <td>...</td>\n      <td>...</td>\n      <td>...</td>\n      <td>...</td>\n      <td>...</td>\n      <td>...</td>\n      <td>...</td>\n      <td>...</td>\n      <td>...</td>\n      <td>...</td>\n      <td>...</td>\n      <td>...</td>\n      <td>...</td>\n      <td>...</td>\n      <td>...</td>\n      <td>...</td>\n    </tr>\n    <tr>\n      <th>14038</th>\n      <td>13</td>\n      <td>14</td>\n      <td>3.0</td>\n      <td>HAPPY ROCKY(S147)</td>\n      <td>B Prebble</td>\n      <td>A Lee</td>\n      <td>127.0</td>\n      <td>1091.0</td>\n      <td>14.0</td>\n      <td>12</td>\n      <td>14 14 14 14</td>\n      <td>1.36.85</td>\n      <td>76.0</td>\n      <td>2017-01-01</td>\n      <td>9</td>\n      <td>3</td>\n      <td>1600</td>\n      <td>GOOD TO FIRM</td>\n      <td>LIN FA SHAN HANDICAP</td>\n      <td>TURF - B+2 COURSE</td>\n      <td>1235000</td>\n      <td>Sha Tin</td>\n      <td>S147</td>\n    </tr>\n    <tr>\n      <th>14075</th>\n      <td>13</td>\n      <td>14</td>\n      <td>4.0</td>\n      <td>DYNAMISM(T188)</td>\n      <td>D Whyte</td>\n      <td>D E Ferraris</td>\n      <td>124.0</td>\n      <td>1142.0</td>\n      <td>7.0</td>\n      <td>14-3/4</td>\n      <td>12 12 8 14</td>\n      <td>1.39.33</td>\n      <td>62.0</td>\n      <td>2016-04-24</td>\n      <td>10</td>\n      <td>2</td>\n      <td>1600</td>\n      <td>YIELDING</td>\n      <td>AUDEMARS PIGUET JULES AUDEMARS HANDICAP</td>\n      <td>TURF - A COURSE</td>\n      <td>1650000</td>\n      <td>Sha Tin</td>\n      <td>T188</td>\n    </tr>\n    <tr>\n      <th>14083</th>\n      <td>13</td>\n      <td>14</td>\n      <td>3.0</td>\n      <td>RENAISSANCE ART(T197)</td>\n      <td>Z Purton</td>\n      <td>C Fownes</td>\n      <td>130.0</td>\n      <td>1105.0</td>\n      <td>11.0</td>\n      <td>11-3/4</td>\n      <td>12 14 14 13 14</td>\n      <td>1.48.90</td>\n      <td>22.0</td>\n      <td>2016-10-23</td>\n      <td>10</td>\n      <td>2</td>\n      <td>1800</td>\n      <td>GOOD</td>\n      <td>BULGARI EXCELLENT HANDICAP</td>\n      <td>TURF - A COURSE</td>\n      <td>1750000</td>\n      <td>Sha Tin</td>\n      <td>T197</td>\n    </tr>\n    <tr>\n      <th>14105</th>\n      <td>13</td>\n      <td>14</td>\n      <td>8.0</td>\n      <td>NO MONEY NO TALK(S404)</td>\n      <td>C Y Ho</td>\n      <td>D J Hall</td>\n      <td>120.0</td>\n      <td>1138.0</td>\n      <td>13.0</td>\n      <td>20-1/2</td>\n      <td>1 1 2 14</td>\n      <td>1.25.23</td>\n      <td>99.0</td>\n      <td>2016-01-01</td>\n      <td>11</td>\n      <td>3</td>\n      <td>1400</td>\n      <td>GOOD</td>\n      <td>GRASSY HILL HANDICAP</td>\n      <td>TURF - B+2 COURSE</td>\n      <td>1165000</td>\n      <td>Sha Tin</td>\n      <td>S404</td>\n    </tr>\n    <tr>\n      <th>14109</th>\n      <td>13</td>\n      <td>14</td>\n      <td>5.0</td>\n      <td>FANTASTIC KAKA(P363)</td>\n      <td>T H So</td>\n      <td>L Ho</td>\n      <td>121.0</td>\n      <td>1112.0</td>\n      <td>10.0</td>\n      <td>9-1/4</td>\n      <td>2 1 2 14</td>\n      <td>1.35.92</td>\n      <td>16.0</td>\n      <td>2016-03-28</td>\n      <td>11</td>\n      <td>2</td>\n      <td>1600</td>\n      <td>GOOD</td>\n      <td>PRIMULA HANDICAP</td>\n      <td>TURF - A+3 COURSE</td>\n      <td>1650000</td>\n      <td>Sha Tin</td>\n      <td>P363</td>\n    </tr>\n  </tbody>\n</table>\n<p>1209 rows × 23 columns</p>\n</div>"
     },
     "metadata": {},
     "execution_count": 7
    }
   ],
   "source": [
    "# jockey,trainer, horse avg place getting \n",
    "results.groupby(['jockey','trainer','horse'])['plc']\n",
    "\n",
    "temporary_results= results[results['plc'].notna()][results[results['plc'].notna()]['plc'].apply(lambda x: x.isnumeric())].copy()\n",
    "temp = temporary_results.groupby(['jockey','trainer','horse']).filter(lambda x: len(x)>=6).copy()\n",
    "\n",
    "temp['plc'] = temp['plc'].apply(lambda x: int(x))\n",
    "temp\n",
    "# fig, ax1 = plt.subplots(figsize=(15,7))\n",
    "# ax1.set_ylabel('place')\n",
    "# ax1.set_title('Top 24 average place by jokey-trainer-horse,race count>= 6 ')\n",
    "# temp.groupby(['jockey','trainer','horse'])['plc'].mean().sort_values(ascending=True).head(24).plot.bar()\n",
    ""
   ]
  },
  {
   "cell_type": "code",
   "execution_count": 8,
   "metadata": {
    "scrolled": false
   },
   "outputs": [],
   "source": [
    "combsize = temp.groupby(['jockey','trainer','horse']).count()[['row']]"
   ]
  },
  {
   "cell_type": "code",
   "execution_count": 9,
   "metadata": {},
   "outputs": [
    {
     "output_type": "execute_result",
     "data": {
      "text/plain": "                                                 row\njockey    trainer      horse                        \nB Prebble A Lee        BEST JADE TRIUMPH(P070)     1\n                       HAPPY ROCKY(S147)           1\n          D E Ferraris ROCK THE TREE(P272)         1\n                       SHOWING CHARACTER(T289)     1\n                       SMART DECLARATION(S436)     1\n...                                              ...\nZ Purton  P O'Sullivan ARCHIPPUS(P361)             2\n                       JOLLY JOLLY(T087)           2\n                       LINE SEEKER(S269)           3\n                       NAMJONG INVINCIBLE(V154)    1\n          W Y So       BRIGHT CONCEPT(S038)        1\n\n[98 rows x 1 columns]",
      "text/html": "<div>\n<style scoped>\n    .dataframe tbody tr th:only-of-type {\n        vertical-align: middle;\n    }\n\n    .dataframe tbody tr th {\n        vertical-align: top;\n    }\n\n    .dataframe thead th {\n        text-align: right;\n    }\n</style>\n<table border=\"1\" class=\"dataframe\">\n  <thead>\n    <tr style=\"text-align: right;\">\n      <th></th>\n      <th></th>\n      <th></th>\n      <th>row</th>\n    </tr>\n    <tr>\n      <th>jockey</th>\n      <th>trainer</th>\n      <th>horse</th>\n      <th></th>\n    </tr>\n  </thead>\n  <tbody>\n    <tr>\n      <th rowspan=\"5\" valign=\"top\">B Prebble</th>\n      <th rowspan=\"2\" valign=\"top\">A Lee</th>\n      <th>BEST JADE TRIUMPH(P070)</th>\n      <td>1</td>\n    </tr>\n    <tr>\n      <th>HAPPY ROCKY(S147)</th>\n      <td>1</td>\n    </tr>\n    <tr>\n      <th rowspan=\"3\" valign=\"top\">D E Ferraris</th>\n      <th>ROCK THE TREE(P272)</th>\n      <td>1</td>\n    </tr>\n    <tr>\n      <th>SHOWING CHARACTER(T289)</th>\n      <td>1</td>\n    </tr>\n    <tr>\n      <th>SMART DECLARATION(S436)</th>\n      <td>1</td>\n    </tr>\n    <tr>\n      <th>...</th>\n      <th>...</th>\n      <th>...</th>\n      <td>...</td>\n    </tr>\n    <tr>\n      <th rowspan=\"5\" valign=\"top\">Z Purton</th>\n      <th rowspan=\"4\" valign=\"top\">P O'Sullivan</th>\n      <th>ARCHIPPUS(P361)</th>\n      <td>2</td>\n    </tr>\n    <tr>\n      <th>JOLLY JOLLY(T087)</th>\n      <td>2</td>\n    </tr>\n    <tr>\n      <th>LINE SEEKER(S269)</th>\n      <td>3</td>\n    </tr>\n    <tr>\n      <th>NAMJONG INVINCIBLE(V154)</th>\n      <td>1</td>\n    </tr>\n    <tr>\n      <th>W Y So</th>\n      <th>BRIGHT CONCEPT(S038)</th>\n      <td>1</td>\n    </tr>\n  </tbody>\n</table>\n<p>98 rows × 1 columns</p>\n</div>"
     },
     "metadata": {},
     "execution_count": 9
    }
   ],
   "source": [
    "combwin = temp[temp['plc']==1].groupby(['jockey','trainer','horse']).count()[['row']]\n",
    "combwin"
   ]
  },
  {
   "cell_type": "code",
   "execution_count": 10,
   "metadata": {},
   "outputs": [],
   "source": [
    "combmerged = pd.merge(combsize,combwin,left_on = ['jockey','trainer','horse'], right_on = ['jockey','trainer','horse'], how = 'left',suffixes=('', '_2'))\n",
    "combmerged = combmerged.fillna(0)"
   ]
  },
  {
   "cell_type": "code",
   "execution_count": 11,
   "metadata": {},
   "outputs": [
    {
     "output_type": "execute_result",
     "data": {
      "text/plain": "                                              winrate\njockey     trainer     horse                         \nJ Moreira  J Moore     RAPPER DRAGON(V082)   0.833333\nM L Yeung  Y S Tsui    TIMELY ARRIVED(S431)  0.666667\nK K Chiong A T Millard GALLANT ROCK(S240)    0.500000\nY T Cheng  T P Yung    DIAMOND KING(S347)    0.500000\nN Callan   C S Shum    SPEEDY LONGWAH(S242)  0.500000\n...                                               ...\nH T Mo     C S Shum    CELESTIAL NOVA(V045)  0.000000\nH N Wong   Y S Tsui    SMART SALUTE(V117)    0.000000\n                       LUCKY SEBRING(V091)   0.000000\n           W Y So      WIN IT(P032)          0.000000\nK C Leung  D Cruz      GLORY HORSIE(M273)    0.000000\n\n[163 rows x 1 columns]",
      "text/html": "<div>\n<style scoped>\n    .dataframe tbody tr th:only-of-type {\n        vertical-align: middle;\n    }\n\n    .dataframe tbody tr th {\n        vertical-align: top;\n    }\n\n    .dataframe thead th {\n        text-align: right;\n    }\n</style>\n<table border=\"1\" class=\"dataframe\">\n  <thead>\n    <tr style=\"text-align: right;\">\n      <th></th>\n      <th></th>\n      <th></th>\n      <th>winrate</th>\n    </tr>\n    <tr>\n      <th>jockey</th>\n      <th>trainer</th>\n      <th>horse</th>\n      <th></th>\n    </tr>\n  </thead>\n  <tbody>\n    <tr>\n      <th>J Moreira</th>\n      <th>J Moore</th>\n      <th>RAPPER DRAGON(V082)</th>\n      <td>0.833333</td>\n    </tr>\n    <tr>\n      <th>M L Yeung</th>\n      <th>Y S Tsui</th>\n      <th>TIMELY ARRIVED(S431)</th>\n      <td>0.666667</td>\n    </tr>\n    <tr>\n      <th>K K Chiong</th>\n      <th>A T Millard</th>\n      <th>GALLANT ROCK(S240)</th>\n      <td>0.500000</td>\n    </tr>\n    <tr>\n      <th>Y T Cheng</th>\n      <th>T P Yung</th>\n      <th>DIAMOND KING(S347)</th>\n      <td>0.500000</td>\n    </tr>\n    <tr>\n      <th>N Callan</th>\n      <th>C S Shum</th>\n      <th>SPEEDY LONGWAH(S242)</th>\n      <td>0.500000</td>\n    </tr>\n    <tr>\n      <th>...</th>\n      <th>...</th>\n      <th>...</th>\n      <td>...</td>\n    </tr>\n    <tr>\n      <th>H T Mo</th>\n      <th>C S Shum</th>\n      <th>CELESTIAL NOVA(V045)</th>\n      <td>0.000000</td>\n    </tr>\n    <tr>\n      <th rowspan=\"3\" valign=\"top\">H N Wong</th>\n      <th rowspan=\"2\" valign=\"top\">Y S Tsui</th>\n      <th>SMART SALUTE(V117)</th>\n      <td>0.000000</td>\n    </tr>\n    <tr>\n      <th>LUCKY SEBRING(V091)</th>\n      <td>0.000000</td>\n    </tr>\n    <tr>\n      <th>W Y So</th>\n      <th>WIN IT(P032)</th>\n      <td>0.000000</td>\n    </tr>\n    <tr>\n      <th>K C Leung</th>\n      <th>D Cruz</th>\n      <th>GLORY HORSIE(M273)</th>\n      <td>0.000000</td>\n    </tr>\n  </tbody>\n</table>\n<p>163 rows × 1 columns</p>\n</div>"
     },
     "metadata": {},
     "execution_count": 11
    }
   ],
   "source": [
    "#win rate by jokey trainer horse for racers participate in 6+ races\n",
    "combmerged['winrate']=combmerged['row_2']/combmerged['row']\n",
    "combmerged.sort_values(by='winrate',ascending=False)[['winrate']]\n",
    ""
   ]
  },
  {
   "cell_type": "code",
   "execution_count": 12,
   "metadata": {},
   "outputs": [],
   "source": [
    "\n",
    "disttemp = temporary_results.copy()\n",
    "disttemp['plc'] = disttemp['plc'].apply(lambda x: int(x))\n",
    ""
   ]
  },
  {
   "cell_type": "code",
   "execution_count": null,
   "metadata": {},
   "outputs": [],
   "source": []
  },
  {
   "cell_type": "markdown",
   "metadata": {},
   "source": [
    "## Extracting horse code from the horse name"
   ]
  },
  {
   "cell_type": "markdown",
   "metadata": {},
   "source": [
    "## Import horse info file"
   ]
  },
  {
   "cell_type": "code",
   "execution_count": 13,
   "metadata": {},
   "outputs": [
    {
     "output_type": "execute_result",
     "data": {
      "text/plain": "                 horse country       trainer colour      sex  \\\n0             ()(S259)     NaN           NaN    NaN      NaN   \n1               (C368)     NaN           NaN    NaN      NaN   \n2    A BEAUTIFUL(T421)     AUS        W Y So    Bay  Gelding   \n3     A FAST ONE(S424)     AUS  D E Ferraris    Bay  Gelding   \n4  A SHIN HIKARI(V614)     JPN           NaN   Grey    Horse   \n\n                                      owner import_type  current_rating  \\\n0                                       NaN         NaN             NaN   \n1                                       NaN         NaN             NaN   \n2  Sandia Yit Lau Ying Lam & Yit Kwok Leung          PP            64.0   \n3      Samson Yip Yan Tion & David Vrijmoed         PPG            37.0   \n4                           Eishindo Co Ltd         VIS             NaN   \n\n   start_rating                sire       dam  age  \n0           NaN                 NaN       NaN  NaN  \n1           NaN                 NaN       NaN  NaN  \n2          58.0          Bushranger   Anfield  6.0  \n3          40.0  Holy Roman Emperor    Detail  6.0  \n4           NaN         Deep Impact  Catalina  NaN  ",
      "text/html": "<div>\n<style scoped>\n    .dataframe tbody tr th:only-of-type {\n        vertical-align: middle;\n    }\n\n    .dataframe tbody tr th {\n        vertical-align: top;\n    }\n\n    .dataframe thead th {\n        text-align: right;\n    }\n</style>\n<table border=\"1\" class=\"dataframe\">\n  <thead>\n    <tr style=\"text-align: right;\">\n      <th></th>\n      <th>horse</th>\n      <th>country</th>\n      <th>trainer</th>\n      <th>colour</th>\n      <th>sex</th>\n      <th>owner</th>\n      <th>import_type</th>\n      <th>current_rating</th>\n      <th>start_rating</th>\n      <th>sire</th>\n      <th>dam</th>\n      <th>age</th>\n    </tr>\n  </thead>\n  <tbody>\n    <tr>\n      <th>0</th>\n      <td>()(S259)</td>\n      <td>NaN</td>\n      <td>NaN</td>\n      <td>NaN</td>\n      <td>NaN</td>\n      <td>NaN</td>\n      <td>NaN</td>\n      <td>NaN</td>\n      <td>NaN</td>\n      <td>NaN</td>\n      <td>NaN</td>\n      <td>NaN</td>\n    </tr>\n    <tr>\n      <th>1</th>\n      <td>(C368)</td>\n      <td>NaN</td>\n      <td>NaN</td>\n      <td>NaN</td>\n      <td>NaN</td>\n      <td>NaN</td>\n      <td>NaN</td>\n      <td>NaN</td>\n      <td>NaN</td>\n      <td>NaN</td>\n      <td>NaN</td>\n      <td>NaN</td>\n    </tr>\n    <tr>\n      <th>2</th>\n      <td>A BEAUTIFUL(T421)</td>\n      <td>AUS</td>\n      <td>W Y So</td>\n      <td>Bay</td>\n      <td>Gelding</td>\n      <td>Sandia Yit Lau Ying Lam &amp; Yit Kwok Leung</td>\n      <td>PP</td>\n      <td>64.0</td>\n      <td>58.0</td>\n      <td>Bushranger</td>\n      <td>Anfield</td>\n      <td>6.0</td>\n    </tr>\n    <tr>\n      <th>3</th>\n      <td>A FAST ONE(S424)</td>\n      <td>AUS</td>\n      <td>D E Ferraris</td>\n      <td>Bay</td>\n      <td>Gelding</td>\n      <td>Samson Yip Yan Tion &amp; David Vrijmoed</td>\n      <td>PPG</td>\n      <td>37.0</td>\n      <td>40.0</td>\n      <td>Holy Roman Emperor</td>\n      <td>Detail</td>\n      <td>6.0</td>\n    </tr>\n    <tr>\n      <th>4</th>\n      <td>A SHIN HIKARI(V614)</td>\n      <td>JPN</td>\n      <td>NaN</td>\n      <td>Grey</td>\n      <td>Horse</td>\n      <td>Eishindo Co Ltd</td>\n      <td>VIS</td>\n      <td>NaN</td>\n      <td>NaN</td>\n      <td>Deep Impact</td>\n      <td>Catalina</td>\n      <td>NaN</td>\n    </tr>\n  </tbody>\n</table>\n</div>"
     },
     "metadata": {},
     "execution_count": 13
    }
   ],
   "source": [
    "horse_info = pd.read_csv('horse_info.csv', index_col = 0)\n",
    "\n",
    "horse_info.head()"
   ]
  },
  {
   "cell_type": "markdown",
   "metadata": {},
   "source": [
    "## Extracting horse code from the horse name"
   ]
  },
  {
   "cell_type": "code",
   "execution_count": 14,
   "metadata": {},
   "outputs": [
    {
     "output_type": "execute_result",
     "data": {
      "text/plain": "                 horse country       trainer colour      sex  \\\n0             ()(S259)     NaN           NaN    NaN      NaN   \n1               (C368)     NaN           NaN    NaN      NaN   \n2    A BEAUTIFUL(T421)     AUS        W Y So    Bay  Gelding   \n3     A FAST ONE(S424)     AUS  D E Ferraris    Bay  Gelding   \n4  A SHIN HIKARI(V614)     JPN           NaN   Grey    Horse   \n\n                                      owner import_type  current_rating  \\\n0                                       NaN         NaN             NaN   \n1                                       NaN         NaN             NaN   \n2  Sandia Yit Lau Ying Lam & Yit Kwok Leung          PP            64.0   \n3      Samson Yip Yan Tion & David Vrijmoed         PPG            37.0   \n4                           Eishindo Co Ltd         VIS             NaN   \n\n   start_rating                sire       dam  age horse_code  \n0           NaN                 NaN       NaN  NaN       S259  \n1           NaN                 NaN       NaN  NaN       C368  \n2          58.0          Bushranger   Anfield  6.0       T421  \n3          40.0  Holy Roman Emperor    Detail  6.0       S424  \n4           NaN         Deep Impact  Catalina  NaN       V614  ",
      "text/html": "<div>\n<style scoped>\n    .dataframe tbody tr th:only-of-type {\n        vertical-align: middle;\n    }\n\n    .dataframe tbody tr th {\n        vertical-align: top;\n    }\n\n    .dataframe thead th {\n        text-align: right;\n    }\n</style>\n<table border=\"1\" class=\"dataframe\">\n  <thead>\n    <tr style=\"text-align: right;\">\n      <th></th>\n      <th>horse</th>\n      <th>country</th>\n      <th>trainer</th>\n      <th>colour</th>\n      <th>sex</th>\n      <th>owner</th>\n      <th>import_type</th>\n      <th>current_rating</th>\n      <th>start_rating</th>\n      <th>sire</th>\n      <th>dam</th>\n      <th>age</th>\n      <th>horse_code</th>\n    </tr>\n  </thead>\n  <tbody>\n    <tr>\n      <th>0</th>\n      <td>()(S259)</td>\n      <td>NaN</td>\n      <td>NaN</td>\n      <td>NaN</td>\n      <td>NaN</td>\n      <td>NaN</td>\n      <td>NaN</td>\n      <td>NaN</td>\n      <td>NaN</td>\n      <td>NaN</td>\n      <td>NaN</td>\n      <td>NaN</td>\n      <td>S259</td>\n    </tr>\n    <tr>\n      <th>1</th>\n      <td>(C368)</td>\n      <td>NaN</td>\n      <td>NaN</td>\n      <td>NaN</td>\n      <td>NaN</td>\n      <td>NaN</td>\n      <td>NaN</td>\n      <td>NaN</td>\n      <td>NaN</td>\n      <td>NaN</td>\n      <td>NaN</td>\n      <td>NaN</td>\n      <td>C368</td>\n    </tr>\n    <tr>\n      <th>2</th>\n      <td>A BEAUTIFUL(T421)</td>\n      <td>AUS</td>\n      <td>W Y So</td>\n      <td>Bay</td>\n      <td>Gelding</td>\n      <td>Sandia Yit Lau Ying Lam &amp; Yit Kwok Leung</td>\n      <td>PP</td>\n      <td>64.0</td>\n      <td>58.0</td>\n      <td>Bushranger</td>\n      <td>Anfield</td>\n      <td>6.0</td>\n      <td>T421</td>\n    </tr>\n    <tr>\n      <th>3</th>\n      <td>A FAST ONE(S424)</td>\n      <td>AUS</td>\n      <td>D E Ferraris</td>\n      <td>Bay</td>\n      <td>Gelding</td>\n      <td>Samson Yip Yan Tion &amp; David Vrijmoed</td>\n      <td>PPG</td>\n      <td>37.0</td>\n      <td>40.0</td>\n      <td>Holy Roman Emperor</td>\n      <td>Detail</td>\n      <td>6.0</td>\n      <td>S424</td>\n    </tr>\n    <tr>\n      <th>4</th>\n      <td>A SHIN HIKARI(V614)</td>\n      <td>JPN</td>\n      <td>NaN</td>\n      <td>Grey</td>\n      <td>Horse</td>\n      <td>Eishindo Co Ltd</td>\n      <td>VIS</td>\n      <td>NaN</td>\n      <td>NaN</td>\n      <td>Deep Impact</td>\n      <td>Catalina</td>\n      <td>NaN</td>\n      <td>V614</td>\n    </tr>\n  </tbody>\n</table>\n</div>"
     },
     "metadata": {},
     "execution_count": 14
    }
   ],
   "source": [
    "horse_info['horse_code'] = horse_info['horse'].apply(lambda x: extract_horse_code(pattern, x))\n",
    "horse_info.head()"
   ]
  },
  {
   "cell_type": "code",
   "execution_count": 15,
   "metadata": {},
   "outputs": [
    {
     "output_type": "stream",
     "name": "stderr",
     "text": "/Library/Frameworks/Python.framework/Versions/3.7/lib/python3.7/site-packages/pandas/core/indexing.py:205: SettingWithCopyWarning: \nA value is trying to be set on a copy of a slice from a DataFrame\n\nSee the caveats in the documentation: http://pandas.pydata.org/pandas-docs/stable/user_guide/indexing.html#returning-a-view-versus-a-copy\n  self._setitem_with_indexer(indexer, value)\n"
    }
   ],
   "source": [
    "\n",
    "#jockey trainer to dictionaries\n",
    "jockeys = results['jockey'].unique()\n",
    "jockey_dict = {jockey: number for number, jockey in enumerate(set(jockeys))}\n",
    "trainers = results['trainer'].unique()\n",
    "trainer_dict = {trainer: number for number, trainer in enumerate(set(trainers))}\n",
    "\n",
    "results_1 = results.copy()\n",
    "\n",
    "results_1['jockey'] = results_1['jockey'].apply(lambda x: str(jockey_dict[x]))\n",
    "results_1['trainer'] = results_1['trainer'].apply(lambda x: str(trainer_dict[x]))\n",
    "\n",
    "results_1['combination'] = results_1[['horse_code', 'jockey','trainer']].apply(lambda x: '_'.join(x), axis=1)\n",
    "results_1 = results_1[results_1['plc'].notna()][results_1[results_1['plc'].notna()]['plc'].apply(lambda x: x.isnumeric())]\n",
    "results_1['plc'] = results_1['plc'].apply(lambda x: int(x)) # ranking thing\n",
    "#appearance\n",
    "results_1['appearance']= results_1.groupby('combination').cumcount()\n",
    "#count win so far\n",
    "results_1['win_so_far'] = 0\n",
    "winning_count = {}\n",
    "for index, row in results_1.iterrows():\n",
    "    if winning_count.get(row['combination']):\n",
    "        results_1['win_so_far'].loc[index] = winning_count[row['combination']]\n",
    "        if row['plc'] == 1:\n",
    "            winning_count[row['combination']] += 1\n",
    "    else:\n",
    "        if row['plc'] == 1:\n",
    "            winning_count[row['combination']] = 1\n",
    "\n",
    "#get info from horse info\n",
    "info = horse_info.copy().set_index('horse_code')\n",
    "def get_info(x):\n",
    "    try:\n",
    "        country = info.loc[x]['country']\n",
    "    except:\n",
    "        country = 'NA'\n",
    "    try:\n",
    "        colour = info.loc[x]['colour']\n",
    "    except:\n",
    "        colour = 'NA'\n",
    "    try:\n",
    "        sex = info.loc[x]['sex']\n",
    "    except:\n",
    "        sex = 'NA'\n",
    "    try:\n",
    "        age = info.loc[x]['age']\n",
    "    except:\n",
    "        age = 'NA'        \n",
    "    return(country,colour,sex,age)\n",
    "results_1['country'] = results_1['horse_code'].apply(lambda x: get_info(x)[0])\n",
    "results_1['colour'] = results_1['horse_code'].apply(lambda x: get_info(x)[1])\n",
    "results_1['sex'] = results_1['horse_code'].apply(lambda x: get_info(x)[2])\n",
    "results_1['age'] = results_1['horse_code'].apply(lambda x: get_info(x)[3])\n",
    "\n",
    "horsedim = results_1[['date','combination','win_so_far','appearance','country','colour','sex','age']].set_index(['date','combination']).reset_index()\n",
    "\n",
    ""
   ]
  },
  {
   "cell_type": "code",
   "execution_count": 68,
   "metadata": {},
   "outputs": [
    {
     "output_type": "stream",
     "name": "stdout",
     "text": "yes\n"
    }
   ],
   "source": [
    "trainer_dict\n",
    "jockey_dict\n",
    "print('yes')"
   ]
  },
  {
   "cell_type": "code",
   "execution_count": 16,
   "metadata": {},
   "outputs": [
    {
     "output_type": "execute_result",
     "data": {
      "text/plain": "             date combination  win_so_far  appearance country colour      sex  \\\n0      2015-06-03  S243_36_43           0           0      NZ    Bay  Gelding   \n1      2015-06-07  T242_17_28           0           0     AUS    Bay  Gelding   \n2      2015-06-10  S165_59_71           0           0     AUS    Bay  Gelding   \n3      2015-06-14  T305_61_33           0           0     AUS    Bay  Gelding   \n4      2015-06-17  P344_17_54           0           0     AUS    Bay  Gelding   \n...           ...         ...         ...         ...     ...    ...      ...   \n13805  2016-10-01  P018_44_43           0           0      NZ  Brown  Gelding   \n13806  2016-11-27  S242_87_52           0           0      NZ  Brown  Gelding   \n13807  2017-01-01   S142_73_1           0           0      GB    Bay  Gelding   \n13808  2017-03-05  V381_34_33           0           0     AUS  Brown  Gelding   \n13809  2017-07-16   V411_50_1           0           0     AUS  Brown  Gelding   \n\n       age  \n0      NaN  \n1        6  \n2      NaN  \n3        5  \n4      NaN  \n...    ...  \n13805  NaN  \n13806    7  \n13807    8  \n13808    5  \n13809    4  \n\n[13810 rows x 8 columns]",
      "text/html": "<div>\n<style scoped>\n    .dataframe tbody tr th:only-of-type {\n        vertical-align: middle;\n    }\n\n    .dataframe tbody tr th {\n        vertical-align: top;\n    }\n\n    .dataframe thead th {\n        text-align: right;\n    }\n</style>\n<table border=\"1\" class=\"dataframe\">\n  <thead>\n    <tr style=\"text-align: right;\">\n      <th></th>\n      <th>date</th>\n      <th>combination</th>\n      <th>win_so_far</th>\n      <th>appearance</th>\n      <th>country</th>\n      <th>colour</th>\n      <th>sex</th>\n      <th>age</th>\n    </tr>\n  </thead>\n  <tbody>\n    <tr>\n      <th>0</th>\n      <td>2015-06-03</td>\n      <td>S243_36_43</td>\n      <td>0</td>\n      <td>0</td>\n      <td>NZ</td>\n      <td>Bay</td>\n      <td>Gelding</td>\n      <td>NaN</td>\n    </tr>\n    <tr>\n      <th>1</th>\n      <td>2015-06-07</td>\n      <td>T242_17_28</td>\n      <td>0</td>\n      <td>0</td>\n      <td>AUS</td>\n      <td>Bay</td>\n      <td>Gelding</td>\n      <td>6</td>\n    </tr>\n    <tr>\n      <th>2</th>\n      <td>2015-06-10</td>\n      <td>S165_59_71</td>\n      <td>0</td>\n      <td>0</td>\n      <td>AUS</td>\n      <td>Bay</td>\n      <td>Gelding</td>\n      <td>NaN</td>\n    </tr>\n    <tr>\n      <th>3</th>\n      <td>2015-06-14</td>\n      <td>T305_61_33</td>\n      <td>0</td>\n      <td>0</td>\n      <td>AUS</td>\n      <td>Bay</td>\n      <td>Gelding</td>\n      <td>5</td>\n    </tr>\n    <tr>\n      <th>4</th>\n      <td>2015-06-17</td>\n      <td>P344_17_54</td>\n      <td>0</td>\n      <td>0</td>\n      <td>AUS</td>\n      <td>Bay</td>\n      <td>Gelding</td>\n      <td>NaN</td>\n    </tr>\n    <tr>\n      <th>...</th>\n      <td>...</td>\n      <td>...</td>\n      <td>...</td>\n      <td>...</td>\n      <td>...</td>\n      <td>...</td>\n      <td>...</td>\n      <td>...</td>\n    </tr>\n    <tr>\n      <th>13805</th>\n      <td>2016-10-01</td>\n      <td>P018_44_43</td>\n      <td>0</td>\n      <td>0</td>\n      <td>NZ</td>\n      <td>Brown</td>\n      <td>Gelding</td>\n      <td>NaN</td>\n    </tr>\n    <tr>\n      <th>13806</th>\n      <td>2016-11-27</td>\n      <td>S242_87_52</td>\n      <td>0</td>\n      <td>0</td>\n      <td>NZ</td>\n      <td>Brown</td>\n      <td>Gelding</td>\n      <td>7</td>\n    </tr>\n    <tr>\n      <th>13807</th>\n      <td>2017-01-01</td>\n      <td>S142_73_1</td>\n      <td>0</td>\n      <td>0</td>\n      <td>GB</td>\n      <td>Bay</td>\n      <td>Gelding</td>\n      <td>8</td>\n    </tr>\n    <tr>\n      <th>13808</th>\n      <td>2017-03-05</td>\n      <td>V381_34_33</td>\n      <td>0</td>\n      <td>0</td>\n      <td>AUS</td>\n      <td>Brown</td>\n      <td>Gelding</td>\n      <td>5</td>\n    </tr>\n    <tr>\n      <th>13809</th>\n      <td>2017-07-16</td>\n      <td>V411_50_1</td>\n      <td>0</td>\n      <td>0</td>\n      <td>AUS</td>\n      <td>Brown</td>\n      <td>Gelding</td>\n      <td>4</td>\n    </tr>\n  </tbody>\n</table>\n<p>13810 rows × 8 columns</p>\n</div>"
     },
     "metadata": {},
     "execution_count": 16
    }
   ],
   "source": [
    "horsedim"
   ]
  },
  {
   "cell_type": "code",
   "execution_count": 29,
   "metadata": {},
   "outputs": [
    {
     "output_type": "execute_result",
     "data": {
      "text/plain": "1790"
     },
     "metadata": {},
     "execution_count": 29
    }
   ],
   "source": [
    "len(set(horse_info['horse_code']).intersection(set(results['horse_code'])))"
   ]
  },
  {
   "cell_type": "code",
   "execution_count": 30,
   "metadata": {},
   "outputs": [
    {
     "output_type": "execute_result",
     "data": {
      "text/plain": "3935"
     },
     "metadata": {},
     "execution_count": 30
    }
   ],
   "source": [
    "len(set(horse_info['horse_code']))"
   ]
  },
  {
   "cell_type": "code",
   "execution_count": 31,
   "metadata": {},
   "outputs": [
    {
     "output_type": "execute_result",
     "data": {
      "text/plain": "1807"
     },
     "metadata": {},
     "execution_count": 31
    }
   ],
   "source": [
    "len(set(results['horse_code']))"
   ]
  },
  {
   "cell_type": "code",
   "execution_count": 43,
   "metadata": {},
   "outputs": [],
   "source": [
    "#"
   ]
  },
  {
   "cell_type": "code",
   "execution_count": 55,
   "metadata": {},
   "outputs": [
    {
     "output_type": "execute_result",
     "data": {
      "text/plain": "         jockey  id\n0         A Lee   0\n1       K W Lui   1\n2       M Saito   2\n3      C Waller   3\n4       K L Man   4\n..          ...  ..\n72    C Appleby  72\n73     A Schutz  73\n74  M F de Kock  74\n75   G Portelli  75\n76       N Hori  76\n\n[77 rows x 2 columns]",
      "text/html": "<div>\n<style scoped>\n    .dataframe tbody tr th:only-of-type {\n        vertical-align: middle;\n    }\n\n    .dataframe tbody tr th {\n        vertical-align: top;\n    }\n\n    .dataframe thead th {\n        text-align: right;\n    }\n</style>\n<table border=\"1\" class=\"dataframe\">\n  <thead>\n    <tr style=\"text-align: right;\">\n      <th></th>\n      <th>jockey</th>\n      <th>id</th>\n    </tr>\n  </thead>\n  <tbody>\n    <tr>\n      <th>0</th>\n      <td>A Lee</td>\n      <td>0</td>\n    </tr>\n    <tr>\n      <th>1</th>\n      <td>K W Lui</td>\n      <td>1</td>\n    </tr>\n    <tr>\n      <th>2</th>\n      <td>M Saito</td>\n      <td>2</td>\n    </tr>\n    <tr>\n      <th>3</th>\n      <td>C Waller</td>\n      <td>3</td>\n    </tr>\n    <tr>\n      <th>4</th>\n      <td>K L Man</td>\n      <td>4</td>\n    </tr>\n    <tr>\n      <th>...</th>\n      <td>...</td>\n      <td>...</td>\n    </tr>\n    <tr>\n      <th>72</th>\n      <td>C Appleby</td>\n      <td>72</td>\n    </tr>\n    <tr>\n      <th>73</th>\n      <td>A Schutz</td>\n      <td>73</td>\n    </tr>\n    <tr>\n      <th>74</th>\n      <td>M F de Kock</td>\n      <td>74</td>\n    </tr>\n    <tr>\n      <th>75</th>\n      <td>G Portelli</td>\n      <td>75</td>\n    </tr>\n    <tr>\n      <th>76</th>\n      <td>N Hori</td>\n      <td>76</td>\n    </tr>\n  </tbody>\n</table>\n<p>77 rows × 2 columns</p>\n</div>"
     },
     "metadata": {},
     "execution_count": 55
    }
   ],
   "source": [
    "pd.DataFrame({'trainer': list(trainer_dict.keys()) , 'id':list(trainer_dict.values()) })\n",
    "pd.DataFrame({'jockey': list(trainer_dict.keys()) , 'id':list(trainer_dict.values()) })"
   ]
  },
  {
   "cell_type": "code",
   "execution_count": null,
   "metadata": {},
   "outputs": [],
   "source": []
  }
 ],
 "metadata": {
  "file_extension": ".py",
  "kernelspec": {
   "display_name": "Python 3",
   "language": "python",
   "name": "python3"
  },
  "language_info": {
   "codemirror_mode": {
    "name": "ipython",
    "version": 3
   },
   "file_extension": ".py",
   "mimetype": "text/x-python",
   "name": "python",
   "nbconvert_exporter": "python",
   "pygments_lexer": "ipython3",
   "version": "3.7.4-final"
  },
  "mimetype": "text/x-python",
  "name": "python",
  "npconvert_exporter": "python",
  "pygments_lexer": "ipython3",
  "version": 3
 },
 "nbformat": 4,
 "nbformat_minor": 2
}